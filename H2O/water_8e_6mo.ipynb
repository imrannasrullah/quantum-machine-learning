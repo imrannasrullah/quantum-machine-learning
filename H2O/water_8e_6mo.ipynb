{
 "cells": [
  {
   "cell_type": "code",
   "execution_count": 2,
   "id": "3febfcee",
   "metadata": {},
   "outputs": [],
   "source": [
    "%matplotlib widget\n",
    "import numpy as np_orig\n",
    "import matplotlib.pyplot as plt\n",
    "def plot_3d(x):\n",
    "    X = [x[0], x[3], x[6]]\n",
    "    Y = [x[1], x[4], x[7]]\n",
    "    Z = [x[2], x[5], x[8]]\n",
    "    fig = plt.figure()\n",
    "    ax = plt.axes(projection='3d')\n",
    "    labels = ['O', 'H1', 'H2']\n",
    "    plt.title(\"Water Molecule\")\n",
    "    \n",
    "    ax.text(x[0], x[1], x[2], 'O', color='red')\n",
    "    ax.text(x[3], x[4], x[5], 'H1', color='red')\n",
    "    ax.text(x[6], x[7], x[8], 'H2', color='red')\n",
    "    \n",
    "    ax.scatter3D(X,Y,Z)\n",
    "    ax.set_xlabel('x-axis')\n",
    "    ax.set_ylabel('y-axis')\n",
    "    ax.set_zlabel('z-axis')"
   ]
  },
  {
   "cell_type": "code",
   "execution_count": 1,
   "id": "ccd9618a",
   "metadata": {},
   "outputs": [],
   "source": [
    "# Factor to convert from Bohrs to Angstroms\n",
    "bohr_angs = 0.529177210903\n",
    "\n",
    "def build_xyz(r, angle): # prepares an equilateral triagnle's coordinates of H3+!\n",
    "    r = r/bohr_angs\n",
    "    x = np.array([0.0, 0.0, 0.0, 0.0, 0.0, 0.0, 0.0, 0.0, 0.0])\n",
    "    \n",
    "    # O at (0,0,0)\n",
    "    x[0] = 0.0\n",
    "    x[1] = 0.0\n",
    "    x[2] = 0.0\n",
    "    \n",
    "    # H1 at (r*cos(angle),r*sin(angle),0)\n",
    "    x[3] = r * np.cos(angle * np.pi/180)\n",
    "    x[4] = r * np.sin(angle * np.pi/180)\n",
    "    x[5] = 0.0\n",
    "    \n",
    "    # H2 at (r, 0, 0)\n",
    "    x[6] = r\n",
    "    x[7] = 0.0\n",
    "    x[8] = 0.0\n",
    "    \n",
    "    # rotate water:\n",
    "    new_x = rotate_water(x, axis, rot_angle)\n",
    "    \n",
    "    return new_x\n",
    "\n",
    "# functions to keep track of convergence of O-H1, O-H2 bond angle during water's geometry optimization\n",
    "\n",
    "import math\n",
    "\n",
    "def unit_vector(vector):\n",
    "    \"\"\" Returns the unit vector of the vector.  \"\"\"\n",
    "    return vector / np.linalg.norm(vector)\n",
    "\n",
    "def angle_between(v1, v2):\n",
    "    \"\"\" Returns the angle in radians between vectors 'v1' and 'v2':\n",
    "\n",
    "            >>> angle_between((1, 0, 0), (0, 1, 0))\n",
    "            1.5707963267948966\n",
    "            >>> angle_between((1, 0, 0), (1, 0, 0))\n",
    "            0.0\n",
    "            >>> angle_between((1, 0, 0), (-1, 0, 0))\n",
    "            3.141592653589793\n",
    "    \"\"\"\n",
    "    v1_u = unit_vector(v1)\n",
    "    v2_u = unit_vector(v2)\n",
    "    return (np.arccos(np.clip(np.dot(v1_u, v2_u), -1.0, 1.0)) * 180/math.pi) #convert to degrees"
   ]
  },
  {
   "cell_type": "code",
   "execution_count": 2,
   "id": "2bbca7f5",
   "metadata": {},
   "outputs": [],
   "source": [
    "import math\n",
    "\n",
    "def R_from_axis_angle(axis, angle):\n",
    "    \"\"\" Find the rotation matrix R(K, theta) \n",
    "        @param axis (K): axis of rotation and \n",
    "        @param theta: rotation angle in degrees\n",
    "        @return R: rotation matrix (3x3 numpy array)\n",
    "    \"\"\"\n",
    "    sina = math.sin(angle * np.pi/180) # convert to radians\n",
    "    cosa = math.cos(angle * np.pi/180) # convert to radians\n",
    "    axis = unit_vector(axis[:3])\n",
    "    kx = axis[0]; ky = axis[1]; kz = axis[2]\n",
    "    # rotation matrix around unit vector\n",
    "    \n",
    "    R = np.array([\n",
    "                [(kx**2)*(1-cosa) + cosa, kx*ky*(1-cosa)-kz*sina, kx*kz*(1-cosa)+ky*sina],\n",
    "                [kx*ky*(1-cosa)+kz*sina, (ky**2)*(1-cosa) + cosa, ky*kz*(1-cosa)-kx*sina],\n",
    "                [kx*kz*(1-cosa)-ky*sina, ky*kz*(1-cosa)+kx*sina, (kz**2)*(1-cosa) + cosa]\n",
    "                ])\n",
    "    \n",
    "    return R\n",
    "\n",
    "def rotate_water(x, axis, angle):\n",
    "    rotation_matrix = R_from_axis_angle(axis, angle)\n",
    "    new_x = np.array([0.0, 0.0, 0.0,0.0, 0.0, 0.0,0.0, 0.0, 0.0], requires_grad=True)\n",
    "    \n",
    "    # Rotate each vertex\n",
    "    point1 = x[0:3]\n",
    "    point1_rot = np.dot(rotation_matrix, point1) # Ordering matters. First rotate, then translate.\n",
    "    point1_rot += transl_vec\n",
    "    new_x[0:3] = point1_rot\n",
    "    \n",
    "    point2 = x[3:6]\n",
    "    point2_rot = np.dot(rotation_matrix, point2)\n",
    "    point2_rot += transl_vec\n",
    "    new_x[3:6] = point2_rot\n",
    "    \n",
    "    point3 = x[6:9]\n",
    "    point3_rot = np.dot(rotation_matrix, point3)\n",
    "    point3_rot += transl_vec\n",
    "    new_x[6:9] = point3_rot\n",
    "    \n",
    "    return new_x\n"
   ]
  },
  {
   "cell_type": "code",
   "execution_count": 3,
   "id": "8bf4a589",
   "metadata": {},
   "outputs": [
    {
     "name": "stdout",
     "output_type": "stream",
     "text": [
      "Hartree-Fock Quantum State is:\n",
      "[1 1 1 1 1 1 1 1 0 0 0 0]\n"
     ]
    }
   ],
   "source": [
    "################ Code from the 'Optimization of molecular geometries' tutorial##################\n",
    "# imports and relevant defines:\n",
    "import pennylane as qml\n",
    "from pennylane import qchem\n",
    "from pennylane import numpy as np\n",
    "import time\n",
    "\n",
    "# Simulation starting parameters:\n",
    "symbols = [\"O\", \"H\", \"H\"]\n",
    "\n",
    "# this is selected from the tutorial 'Building molecular Hamiltonians', which has the same nulcear-coordinats for water\n",
    "x = np.array([ 0.        ,  0.7581    , -0.5086    , -1.49139892,  0.29819887,\n",
    "        -1.2393812 , -0.68850404,  2.16155953,  0.21671681], requires_grad=True)\n",
    "\n",
    "# these parameters are used to match up with the parameters for the VQE run on water in the paper: https://arxiv.org/pdf/2106.13840.pdf\n",
    "active_electrons = 8\n",
    "active_orbitals = 6\n",
    "\n",
    "# define the hamiltonian needed to compute cost-function\n",
    "def H(x):\n",
    "    return qml.qchem.molecular_hamiltonian(symbols, x, charge=0, active_electrons = active_electrons, active_orbitals = active_orbitals)[0]\n",
    "\n",
    "hf = qml.qchem.hf_state(electrons=active_electrons, orbitals=active_orbitals*2)\n",
    "\n",
    "print(\"Hartree-Fock Quantum State is:\")\n",
    "print(hf)\n",
    "num_wires = 6"
   ]
  },
  {
   "cell_type": "code",
   "execution_count": 4,
   "id": "8666f2e4",
   "metadata": {},
   "outputs": [
    {
     "name": "stdout",
     "output_type": "stream",
     "text": [
      "[1 1 1 1 1 1 1 1 0 0 0 0]\n",
      "Computed gradients for all possible Double Excitation Gates: \n",
      "\n",
      "Excitation : [0, 1, 8, 9], Gradient: -0.10631894572187418\n",
      "Excitation : [0, 1, 8, 11], Gradient: 0.0\n",
      "Excitation : [0, 1, 9, 10], Gradient: 0.0\n",
      "Excitation : [0, 1, 10, 11], Gradient: -0.059240875717551184\n",
      "Excitation : [0, 2, 8, 10], Gradient: -0.039875832213294854\n",
      "Excitation : [0, 3, 8, 9], Gradient: 0.0\n",
      "Excitation : [0, 3, 8, 11], Gradient: 0.0772097850362808\n",
      "Excitation : [0, 3, 9, 10], Gradient: -0.03733395282298593\n",
      "Excitation : [0, 3, 10, 11], Gradient: 0.0\n",
      "Excitation : [0, 4, 8, 10], Gradient: 0.0\n",
      "Excitation : [0, 5, 8, 9], Gradient: 0.05732746246971731\n",
      "Excitation : [0, 5, 8, 11], Gradient: 0.0\n",
      "Excitation : [0, 5, 9, 10], Gradient: 0.0\n",
      "Excitation : [0, 5, 10, 11], Gradient: -0.014036506114198311\n",
      "Excitation : [0, 6, 8, 10], Gradient: 0.0\n",
      "Excitation : [0, 7, 8, 9], Gradient: 0.0\n",
      "Excitation : [0, 7, 8, 11], Gradient: 0.0\n",
      "Excitation : [0, 7, 9, 10], Gradient: 0.0\n",
      "Excitation : [0, 7, 10, 11], Gradient: 0.0\n",
      "Excitation : [1, 2, 8, 9], Gradient: 0.0\n",
      "Excitation : [1, 2, 8, 11], Gradient: -0.03733395282298593\n",
      "Excitation : [1, 2, 9, 10], Gradient: 0.0772097850362808\n",
      "Excitation : [1, 2, 10, 11], Gradient: 0.0\n",
      "Excitation : [1, 3, 9, 11], Gradient: -0.039875832213294854\n",
      "Excitation : [1, 4, 8, 9], Gradient: -0.05732746246971731\n",
      "Excitation : [1, 4, 8, 11], Gradient: 0.0\n",
      "Excitation : [1, 4, 9, 10], Gradient: 0.0\n",
      "Excitation : [1, 4, 10, 11], Gradient: 0.014036506114198311\n",
      "Excitation : [1, 5, 9, 11], Gradient: 0.0\n",
      "Excitation : [1, 6, 8, 9], Gradient: 0.0\n",
      "Excitation : [1, 6, 8, 11], Gradient: 0.0\n",
      "Excitation : [1, 6, 9, 10], Gradient: 0.0\n",
      "Excitation : [1, 6, 10, 11], Gradient: 0.0\n",
      "Excitation : [1, 7, 9, 11], Gradient: 0.0\n",
      "Excitation : [2, 3, 8, 9], Gradient: -0.06122875839768579\n",
      "Excitation : [2, 3, 8, 11], Gradient: 0.0\n",
      "Excitation : [2, 3, 9, 10], Gradient: 0.0\n",
      "Excitation : [2, 3, 10, 11], Gradient: -0.15400361863678078\n",
      "Excitation : [2, 4, 8, 10], Gradient: -0.03955460906339513\n",
      "Excitation : [2, 5, 8, 9], Gradient: 0.0\n",
      "Excitation : [2, 5, 8, 11], Gradient: -0.03899594659188468\n",
      "Excitation : [2, 5, 9, 10], Gradient: 0.07855055565527978\n",
      "Excitation : [2, 5, 10, 11], Gradient: 0.0\n",
      "Excitation : [2, 6, 8, 10], Gradient: 0.0\n",
      "Excitation : [2, 7, 8, 9], Gradient: 0.0\n",
      "Excitation : [2, 7, 8, 11], Gradient: 0.0\n",
      "Excitation : [2, 7, 9, 10], Gradient: 0.0\n",
      "Excitation : [2, 7, 10, 11], Gradient: 0.0\n",
      "Excitation : [3, 4, 8, 9], Gradient: 0.0\n",
      "Excitation : [3, 4, 8, 11], Gradient: 0.07855055565527978\n",
      "Excitation : [3, 4, 9, 10], Gradient: -0.03899594659188468\n",
      "Excitation : [3, 4, 10, 11], Gradient: 0.0\n",
      "Excitation : [3, 5, 9, 11], Gradient: -0.03955460906339513\n",
      "Excitation : [3, 6, 8, 9], Gradient: 0.0\n",
      "Excitation : [3, 6, 8, 11], Gradient: 0.0\n",
      "Excitation : [3, 6, 9, 10], Gradient: 0.0\n",
      "Excitation : [3, 6, 10, 11], Gradient: 0.0\n",
      "Excitation : [3, 7, 9, 11], Gradient: 0.0\n",
      "Excitation : [4, 5, 8, 9], Gradient: -0.06877433885498158\n",
      "Excitation : [4, 5, 8, 11], Gradient: 0.0\n",
      "Excitation : [4, 5, 9, 10], Gradient: 0.0\n",
      "Excitation : [4, 5, 10, 11], Gradient: -0.07270045526613919\n",
      "Excitation : [4, 6, 8, 10], Gradient: 0.0\n",
      "Excitation : [4, 7, 8, 9], Gradient: 0.0\n",
      "Excitation : [4, 7, 8, 11], Gradient: 0.0\n",
      "Excitation : [4, 7, 9, 10], Gradient: 0.0\n",
      "Excitation : [4, 7, 10, 11], Gradient: 0.0\n",
      "Excitation : [5, 6, 8, 9], Gradient: 0.0\n",
      "Excitation : [5, 6, 8, 11], Gradient: 0.0\n",
      "Excitation : [5, 6, 9, 10], Gradient: 0.0\n",
      "Excitation : [5, 6, 10, 11], Gradient: 0.0\n",
      "Excitation : [5, 7, 9, 11], Gradient: 0.0\n",
      "Excitation : [6, 7, 8, 9], Gradient: -0.03945498806698956\n",
      "Excitation : [6, 7, 8, 11], Gradient: 0.0\n",
      "Excitation : [6, 7, 9, 10], Gradient: 0.0\n",
      "Excitation : [6, 7, 10, 11], Gradient: -0.02305810549283035\n",
      "\n",
      "Number of selected double-excitation gates:  24\n",
      "Done!\n",
      "Computed gradients for all possible Single Excitation Gates: \n",
      "\n",
      "Excitation : [0, 8], Gradient: -0.00034050286717786696\n",
      "Excitation : [0, 10], Gradient: 0.0\n",
      "Excitation : [1, 9], Gradient: -0.00037582961304511906\n",
      "Excitation : [1, 11], Gradient: 0.0\n",
      "Excitation : [2, 8], Gradient: 0.0\n",
      "Excitation : [2, 10], Gradient: -0.005247740262885408\n",
      "Excitation : [3, 9], Gradient: 0.0\n",
      "Excitation : [3, 11], Gradient: 0.005281086319074415\n",
      "Excitation : [4, 8], Gradient: -0.007389627371019285\n",
      "Excitation : [4, 10], Gradient: 0.0\n",
      "Excitation : [5, 9], Gradient: 0.007422730922514338\n",
      "Excitation : [5, 11], Gradient: 0.0\n",
      "Excitation : [6, 8], Gradient: 0.0\n",
      "Excitation : [6, 10], Gradient: 0.0\n",
      "Excitation : [7, 9], Gradient: 0.0\n",
      "Excitation : [7, 11], Gradient: 0.0\n",
      "\n",
      "Number of selected single-excitation gates:  6\n",
      "Total selected gates: 30\n"
     ]
    }
   ],
   "source": [
    "################ Code from the 'Building the adaptive circuit' tutorial below:################\n",
    "active_electrons = active_electrons\n",
    "active_orbitals = active_orbitals\n",
    "\n",
    "H, qubits = qml.qchem.molecular_hamiltonian(symbols, x, charge=0, active_electrons = active_electrons, active_orbitals = active_orbitals)\n",
    "singles, doubles = qchem.excitations(active_electrons, qubits)\n",
    "\n",
    "hf_state = qchem.hf_state(active_electrons, qubits)\n",
    "print(hf_state)\n",
    "\n",
    "\n",
    "#qubits = 14\n",
    "#compute the significant double-excitation gates:\n",
    "def circuit_1(params, excitations):\n",
    "    qml.BasisState(hf_state, wires=range(qubits))\n",
    "    #qml.StatePrep(wf_cisd, wires=range(qubits))\n",
    "\n",
    "    for i, excitation in enumerate(excitations):\n",
    "        if len(excitation) == 4:\n",
    "            qml.DoubleExcitation(params[i], wires=excitation)\n",
    "        else:\n",
    "            qml.SingleExcitation(params[i], wires=excitation)\n",
    "    return qml.expval(H)\n",
    "\n",
    "dev = qml.device(\"default.qubit\", wires=qubits)\n",
    "cost_fn = qml.QNode(circuit_1, dev, interface=\"autograd\")\n",
    "circuit_gradient = qml.grad(cost_fn, argnum=0)\n",
    "params = [0.0] * len(doubles)\n",
    "grads = circuit_gradient(params, excitations=doubles)\n",
    "print(\"Computed gradients for all possible Double Excitation Gates: \\n\")\n",
    "for i in range(len(doubles)):\n",
    "    print(f\"Excitation : {doubles[i]}, Gradient: {grads[i]}\")   \n",
    "doubles_select = [doubles[i] for i in range(len(doubles)) if abs(grads[i]) > 1.0e-5]\n",
    "print(\"\")\n",
    "print(\"Number of selected double-excitation gates: \", len(doubles_select))\n",
    "\n",
    "\n",
    "\n",
    "# optimizing the parameters for the double-excitation gates for Ansatz-wavefunction construction\n",
    "opt = qml.GradientDescentOptimizer(stepsize=0.5)\n",
    "params_doubles = np.zeros(len(doubles_select), requires_grad=True)\n",
    "for n in range(20):\n",
    "    params_doubles = opt.step(cost_fn, params_doubles, excitations=doubles_select)\n",
    "print(\"Done!\")\n",
    "\n",
    "\n",
    "\n",
    "#compute the significant single-excitation gates:\n",
    "def circuit_2(params, excitations, gates_select, params_select):\n",
    "    qml.BasisState(hf_state, wires=range(qubits))\n",
    "    #qml.StatePrep(wf_cisd, wires=range(qubits))\n",
    "\n",
    "    for i, gate in enumerate(gates_select):\n",
    "        if len(gate) == 4:\n",
    "            qml.DoubleExcitation(params_select[i], wires=gate)\n",
    "        elif len(gate) == 2:\n",
    "            qml.SingleExcitation(params_select[i], wires=gate)\n",
    "\n",
    "    for i, gate in enumerate(excitations):\n",
    "        if len(gate) == 4:\n",
    "            qml.DoubleExcitation(params[i], wires=gate)\n",
    "        elif len(gate) == 2:\n",
    "            qml.SingleExcitation(params[i], wires=gate)\n",
    "    return qml.expval(H)\n",
    "\n",
    "\n",
    "cost_fn = qml.QNode(circuit_2, dev, interface=\"autograd\")\n",
    "circuit_gradient = qml.grad(cost_fn, argnum=0)\n",
    "params = [0.0] * len(singles)\n",
    "grads = circuit_gradient(\n",
    "    params,\n",
    "    excitations=singles,\n",
    "    gates_select=doubles_select,\n",
    "    params_select=params_doubles\n",
    ")\n",
    "print(\"Computed gradients for all possible Single Excitation Gates: \\n\")\n",
    "for i in range(len(singles)):\n",
    "    print(f\"Excitation : {singles[i]}, Gradient: {grads[i]}\")\n",
    "singles_select = [singles[i] for i in range(len(singles)) if abs(grads[i]) > 1.0e-5]\n",
    "print(\"\")\n",
    "print(\"Number of selected single-excitation gates: \", len(singles_select))\n",
    "\n",
    "#Total Number of Gates selected to construct the Quantum Ansatz:\n",
    "print(\"Total selected gates: \"+  str(len(doubles_select) + len(singles_select)))\n",
    "\n",
    "################# End code from the 'Building the adaptive circuit' tutorial ##################"
   ]
  },
  {
   "cell_type": "code",
   "execution_count": 5,
   "id": "8b75e412",
   "metadata": {},
   "outputs": [
    {
     "data": {
      "text/plain": [
       "30"
      ]
     },
     "execution_count": 5,
     "metadata": {},
     "output_type": "execute_result"
    }
   ],
   "source": [
    "len(doubles_select) + len(singles_select)"
   ]
  },
  {
   "cell_type": "code",
   "execution_count": 6,
   "id": "196e8493",
   "metadata": {},
   "outputs": [
    {
     "data": {
      "text/plain": [
       "92"
      ]
     },
     "execution_count": 6,
     "metadata": {},
     "output_type": "execute_result"
    }
   ],
   "source": [
    "len(singles) + len(doubles)"
   ]
  },
  {
   "cell_type": "code",
   "execution_count": 7,
   "id": "9f1b07c0",
   "metadata": {},
   "outputs": [],
   "source": [
    "#len(wf_cisd)"
   ]
  },
  {
   "cell_type": "code",
   "execution_count": 8,
   "id": "24864f5f",
   "metadata": {},
   "outputs": [
    {
     "data": {
      "text/plain": [
       "12"
      ]
     },
     "execution_count": 8,
     "metadata": {},
     "output_type": "execute_result"
    }
   ],
   "source": [
    "qubits"
   ]
  },
  {
   "cell_type": "code",
   "execution_count": 9,
   "id": "4298e315",
   "metadata": {},
   "outputs": [],
   "source": [
    "################ Resume from the 'Optimization of molecular geometries' tutorial below: ################\n",
    "\n",
    "#Construct optimized parametrized circuit that will be used to run the optimized VQE algorithm\n",
    "# using the selected single and double excitation gates:\n",
    "#num_wires = 14\n",
    "num_wires = qubits\n",
    "dev = qml.device(\"lightning.qubit\", wires=num_wires)\n",
    "@qml.qnode(dev, interface=\"autograd\")\n",
    "def circuit(params, obs, wires):\n",
    "    # prepares Hartee-fock state:\n",
    "    qml.BasisState(hf_state, wires=wires)\n",
    "    #qml.StatePrep(wf_cisd, wires=wires)\n",
    "    \n",
    "    # apply all single excitations\n",
    "    for i, singles in enumerate(singles_select):\n",
    "        qml.SingleExcitation(params[i], wires=singles)\n",
    "        \n",
    "    # apply all double excitations\n",
    "    for j, doubles in enumerate(doubles_select):\n",
    "        qml.DoubleExcitation(params[j + len(singles_select)], wires=doubles)\n",
    "                             \n",
    "    # returns expectation value of the ansatz prepared from this quantum circuit:   \n",
    "    return qml.expval(obs)\n",
    "\n",
    "################################ Z-Matrix Modifications: ################################# \n",
    "def cost(params, r, angle):\n",
    "    hamiltonian = H(build_xyz(r[0], angle[0]))\n",
    "    return circuit(params, obs=hamiltonian, wires=range(num_wires))\n",
    "\n",
    "def circuit1(params, obs, wires):\n",
    "    # prepares Hartee-fock state:\n",
    "    qml.BasisState(hf_state, wires=wires)\n",
    "    #qml.StatePrep(wf_cisd, wires=wires)\n",
    "    \n",
    "    # apply all single excitations\n",
    "    for i, singles in enumerate(singles_select):\n",
    "        qml.SingleExcitation(params[i], wires=singles)\n",
    "        \n",
    "    # apply all double excitations\n",
    "    for j, doubles in enumerate(doubles_select):\n",
    "        qml.DoubleExcitation(params[j + len(singles_select)], wires=doubles)\n",
    "                             \n",
    "    # returns expectation value of the ansatz prepared from this quantum circuit:   \n",
    "    return qml.expval(obs)\n",
    "\n",
    "dev = qml.device(\"default.qubit\", wires=num_wires)\n",
    "@qml.qnode(dev, interface=\"autograd\")\n",
    "def cost_fn(params):\n",
    "    hamiltonian = H(build_xyz(r[0], angle[0]))\n",
    "    return circuit1(params, obs=hamiltonian, wires=range(num_wires)) \n",
    "\n",
    "\n",
    "########### bond length ###########\n",
    "def finite_diff_r_fd(f, r, angle, delta=0.0001):\n",
    "    '''Compute the central-difference finite difference of a function'''\n",
    "    gradient = []\n",
    "    shift = 0.5 * delta\n",
    "    \n",
    "    temp1 = build_xyz(r+shift, angle)\n",
    "    temp2 = build_xyz(r-shift, angle)\n",
    "    \n",
    "    res = (f(temp1) - f(temp2)) * delta**-1 # dH/dx\n",
    "    \n",
    "    gradient.append(res)\n",
    "    \n",
    "    return gradient\n",
    "\n",
    "\n",
    "def finite_diff_r(f, r, angle, shift=np.pi/120):\n",
    "    '''Compute the central-difference finite difference of a function'''\n",
    "    gradient = []\n",
    "    \n",
    "    temp1 = build_xyz(r+shift, angle)\n",
    "    temp2 = build_xyz(r-shift, angle)\n",
    "    \n",
    "    res = (f(temp1) - f(temp2)) /(2*np.sin(shift)) # dH/dx\n",
    "    \n",
    "    gradient.append(res)\n",
    "    \n",
    "    return gradient\n",
    "\n",
    "def grad_r(params, r, angle): #evaluate the expectation of the gradient components (each of the nuclear components of the Hamiltonian)\n",
    "    #grad_h = finite_diff_r(H, r,angle)\n",
    "    grad_h = finite_diff_r_fd(H, r,angle)\n",
    "    grad = [circuit(params, obs=obs, wires=range(num_wires)) for obs in grad_h]\n",
    "    \n",
    "    r_gradient.append(grad)\n",
    "    \n",
    "    return np.array(grad)\n",
    "\n",
    "############## angles ###################\n",
    "def finite_diff_angle(f, r, angle, shift=np.pi/120):\n",
    "    '''Compute the central-difference finite difference of a function'''\n",
    "    gradient = []\n",
    "    \n",
    "    # convert angle to radians\n",
    "    angle_pos = (np.pi/180) * angle\n",
    "    # shift angle in radians space:\n",
    "    angle_pos += shift\n",
    "    # convert angle in radians space back to degrees space\n",
    "    angle_pos = (180/np.pi) * angle_pos\n",
    "    \n",
    "    # convert angle to radians\n",
    "    angle_neg = (np.pi/180) * angle\n",
    "    # shift angle in radians space:\n",
    "    angle_neg -= shift\n",
    "    # convert angle in radians space back to degrees space\n",
    "    angle_neg = (180/np.pi) * angle_neg\n",
    "    \n",
    "    temp1 = build_xyz(r, angle_pos)\n",
    "    temp2 = build_xyz(r, angle_neg)\n",
    "    \n",
    "    res = (f(temp1) - f(temp2)) /(2*np.sin(shift)) # dH/dx\n",
    "    \n",
    "    gradient.append(res)\n",
    "    \n",
    "    return gradient\n",
    "\n",
    "def grad_angle(params, r, angle): #evaluate the expectation of the gradient components (each of the nuclear components of the Hamiltonian)\n",
    "    grad_h = finite_diff_angle(H, r, angle)\n",
    "    grad = [circuit(params, obs=obs, wires=range(num_wires)) for obs in grad_h]\n",
    "    \n",
    "    angle_gradient.append(grad)\n",
    "    \n",
    "    return np.array(grad)\n",
    "\n",
    "\n",
    "\n",
    "\n",
    "############################################################################# \n",
    "def Hamiltonian_Func(r):\n",
    "    return H(build_xyz(r[0],angle[0]))\n"
   ]
  },
  {
   "cell_type": "code",
   "execution_count": 17,
   "id": "c0198f72",
   "metadata": {},
   "outputs": [
    {
     "name": "stdout",
     "output_type": "stream",
     "text": [
      "Reinitialized gradient descent parameters!\n"
     ]
    }
   ],
   "source": [
    "# initialize optimizers:\n",
    "\n",
    "opt_theta = qml.GradientDescentOptimizer(stepsize=0.2)\n",
    "\n",
    "step_r = 0.005\n",
    "opt_r = qml.AdamOptimizer(stepsize=step_r)\n",
    "\n",
    "step_angle = 0.2\n",
    "opt_angle = qml.AdamOptimizer(stepsize=step_angle)\n",
    "\n",
    "# Re-initialize all relevant parameters to be optimized:\n",
    "# nuclear-coordinate parameters:\n",
    "symbols = [\"O\", \"H\", \"H\"]\n",
    "x = np.array([ 0.        ,  0.7581    , -0.5086    , -1.49139892,  0.29819887,\n",
    "        -1.2393812 , -0.68850404,  2.16155953,  0.21671681], requires_grad=True)\n",
    "\n",
    "\n",
    "# Optional: Set parameters:\n",
    "r_calc = 0.91194\n",
    "angle_calc = 92.86937\n",
    "\n",
    "# initialize z-matrix variables:\n",
    "r = np.array([r_calc], requires_grad=True)\n",
    "angle = np.array([angle_calc], requires_grad=True)\n",
    "\n",
    "\n",
    "# circuit parameters:\n",
    "theta = np.array([0.0] * (len(doubles_select) + len(singles_select)), requires_grad=True)\n",
    "\n",
    "print(\"Reinitialized gradient descent parameters!\")\n",
    "\n",
    "\n",
    "############## SET ROTATION AND TRANSLATION OF MOLECULE ##############\n",
    "axis = np.array([1, -5, 13]) # any set of numbers, bc it will be normalized to unit vector\n",
    "rot_angle = 114 # in degrees\n",
    "transl_vec = np.array([0.0000,0.7581,-0.5086]) # keep in atomic units\n",
    "\n",
    "# Comment this in for a \"default\" geometric initialization\n",
    "# axis = np.array([0,0,1]) # any set of numbers, bc it will be normalized to unit vector\n",
    "# rot_angle = 0 # in degrees\n",
    "# transl_vec = np.array([0.0, 0.0, 0.0]) # keep in atomic units\n",
    "######################################################################\n",
    "\n",
    "# re-define the hamiltonian needed to compute cost-function (otherwise it gives error: Hamiltonian function not callable\n",
    "# when I run the actual gradient descent code below)\n",
    "def H(x):\n",
    "    return qml.qchem.molecular_hamiltonian(symbols, x, charge=0, active_electrons = active_electrons, active_orbitals = active_orbitals)[0]\n",
    "\n"
   ]
  },
  {
   "cell_type": "code",
   "execution_count": 18,
   "id": "d424cea5",
   "metadata": {},
   "outputs": [
    {
     "data": {
      "text/plain": [
       "tensor([ 0.        ,  0.7581    , -0.5086    , -1.49139892,  0.29819887,\n",
       "        -1.2393812 , -0.68850404,  2.16155953,  0.21671681], requires_grad=True)"
      ]
     },
     "execution_count": 18,
     "metadata": {},
     "output_type": "execute_result"
    }
   ],
   "source": [
    "display_x = build_xyz(r[0], angle[0])\n",
    "display_x"
   ]
  },
  {
   "cell_type": "code",
   "execution_count": 19,
   "id": "dacfae75",
   "metadata": {},
   "outputs": [],
   "source": [
    "#plot_3d(display_x)"
   ]
  },
  {
   "cell_type": "code",
   "execution_count": 20,
   "id": "150fc4b7",
   "metadata": {},
   "outputs": [
    {
     "data": {
      "text/plain": [
       "(tensor([0.91194], requires_grad=True), tensor([92.86937], requires_grad=True))"
      ]
     },
     "execution_count": 20,
     "metadata": {},
     "output_type": "execute_result"
    }
   ],
   "source": [
    "r, angle"
   ]
  },
  {
   "cell_type": "code",
   "execution_count": 21,
   "id": "c17e9a3b",
   "metadata": {},
   "outputs": [
    {
     "name": "stdout",
     "output_type": "stream",
     "text": [
      "Done with theta optimization!\n",
      "Step = 0,  E = -74.96601532 Ha\n",
      "Bond length = 0.91694 A, Bond angle = 93.06937°\n",
      "Maximum r Gradient =  -0.4700804398812714\n",
      "Maximum angle Gradient =  -0.3333461738982363\n",
      "Done with theta optimization!\n",
      "Step = 1,  E = -74.97893442 Ha\n",
      "Bond length = 0.92193 A, Bond angle = 93.26575°\n",
      "Maximum r Gradient =  -0.44866402563363056\n",
      "Maximum angle Gradient =  -0.5546909384007152\n",
      "Minima r count: 0\n",
      "Minima angle count: 0\n",
      "Step_r: 0.006\n",
      "Step_angle: 0.201\n",
      "\n",
      "Done with theta optimization!\n",
      "Step = 2,  E = -74.98818586 Ha\n",
      "Bond length = 0.92793 A, Bond angle = 93.46675°\n",
      "Maximum r Gradient =  -0.4277404809913929\n",
      "Maximum angle Gradient =  -0.7323068467595356\n",
      "Minima r count: 0\n",
      "Minima angle count: 0\n",
      "Step_r: 0.007\n",
      "Step_angle: 0.202\n",
      "\n",
      "Done with theta optimization!\n",
      "Step = 3,  E = -74.99527995 Ha\n",
      "Bond length = 0.93493 A, Bond angle = 93.66875°\n",
      "Maximum r Gradient =  -0.40003111477093195\n",
      "Maximum angle Gradient =  -0.8767421237735276\n",
      "Minima r count: 0\n",
      "Minima angle count: 0\n",
      "Step_r: 0.008\n",
      "Step_angle: 0.203\n",
      "\n",
      "Done with theta optimization!\n",
      "Step = 4,  E = -75.00103681 Ha\n",
      "Bond length = 0.94293 A, Bond angle = 93.87175°\n",
      "Maximum r Gradient =  -0.36601144921273676\n",
      "Maximum angle Gradient =  -0.9964097565970891\n",
      "Minima r count: 0\n",
      "Minima angle count: 0\n",
      "Step_r: 0.009000000000000001\n",
      "Step_angle: 0.20400000000000001\n",
      "\n",
      "Done with theta optimization!\n",
      "Step = 5,  E = -75.00588103 Ha\n",
      "Bond length = 0.95193 A, Bond angle = 94.07575°\n",
      "Maximum r Gradient =  -0.32640215534276174\n",
      "Maximum angle Gradient =  -1.0978512476994362\n",
      "Minima r count: 0\n",
      "Minima angle count: 0\n",
      "Step_r: 0.010000000000000002\n",
      "Step_angle: 0.20500000000000002\n",
      "\n",
      "Done with theta optimization!\n",
      "Step = 6,  E = -75.01001120 Ha\n",
      "Bond length = 0.96193 A, Bond angle = 94.28075°\n",
      "Maximum r Gradient =  -0.2820680683910928\n",
      "Maximum angle Gradient =  -1.1861464631987366\n",
      "Minima r count: 0\n",
      "Minima angle count: 0\n",
      "Step_r: 0.011000000000000003\n",
      "Step_angle: 0.20600000000000002\n",
      "\n",
      "Done with theta optimization!\n",
      "Step = 7,  E = -75.01349641 Ha\n",
      "Bond length = 0.97293 A, Bond angle = 94.48675°\n",
      "Maximum r Gradient =  -0.23392930347999236\n",
      "Maximum angle Gradient =  -1.2652423344442556\n",
      "Minima r count: 0\n",
      "Minima angle count: 0\n",
      "Step_r: 0.012000000000000004\n",
      "Step_angle: 0.20700000000000002\n",
      "\n",
      "Done with theta optimization!\n",
      "Step = 8,  E = -75.01633229 Ha\n",
      "Bond length = 0.98493 A, Bond angle = 94.69375°\n",
      "Maximum r Gradient =  -0.1829111953154615\n",
      "Maximum angle Gradient =  -1.3382182275959837\n",
      "Minima r count: 0\n",
      "Minima angle count: 0\n",
      "Step_r: 0.013000000000000005\n",
      "Step_angle: 0.20800000000000002\n",
      "\n",
      "Done with theta optimization!\n",
      "Step = 9,  E = -75.01847446 Ha\n",
      "Bond length = 0.99793 A, Bond angle = 94.90175°\n",
      "Maximum r Gradient =  -0.12991602439980077\n",
      "Maximum angle Gradient =  -1.4074936367968003\n",
      "Minima r count: 0\n",
      "Minima angle count: 0\n",
      "Step_r: 0.014000000000000005\n",
      "Step_angle: 0.20900000000000002\n",
      "\n",
      "Done with theta optimization!\n",
      "Step = 10,  E = -75.01985896 Ha\n",
      "Bond length = 1.01193 A, Bond angle = 95.11075°\n",
      "Maximum r Gradient =  -0.07580374194518873\n",
      "Maximum angle Gradient =  -1.4749879918980497\n",
      "Minima r count: 0\n",
      "Minima angle count: 0\n",
      "Step_r: 0.015000000000000006\n",
      "Step_angle: 0.21000000000000002\n",
      "\n",
      "Done with theta optimization!\n",
      "Step = 11,  E = -75.02041511 Ha\n",
      "Bond length = 1.02693 A, Bond angle = 95.32075°\n",
      "Maximum r Gradient =  -0.0213821783353233\n",
      "Maximum angle Gradient =  -1.5422423510354966\n",
      "Minima r count: 0\n",
      "Minima angle count: 0\n",
      "Step_r: 0.016000000000000007\n",
      "Step_angle: 0.21100000000000002\n",
      "\n",
      "Done with theta optimization!\n",
      "Step = 12,  E = -75.02110230 Ha\n",
      "Bond length = 1.01093 A, Bond angle = 95.53175°\n",
      "Maximum r Gradient =  0.032599284576052406\n",
      "Maximum angle Gradient =  -1.5789664559806713\n",
      "Minima r count: 1\n",
      "Minima angle count: 0\n",
      "Step_r: 0.015040000000000006\n",
      "Step_angle: 0.21200000000000002\n",
      "\n",
      "Done with theta optimization!\n",
      "Step = 13,  E = -75.02151641 Ha\n",
      "Bond length = 1.02597 A, Bond angle = 95.74375°\n",
      "Maximum r Gradient =  -0.03560760258732707\n",
      "Maximum angle Gradient =  -1.6297344166126417\n",
      "Minima r count: 2\n",
      "Minima angle count: 0\n",
      "Step_r: 0.014137600000000005\n",
      "Step_angle: 0.21300000000000002\n",
      "\n",
      "Done with theta optimization!\n",
      "Step = 14,  E = -75.02178712 Ha\n",
      "Bond length = 1.01184 A, Bond angle = 95.95675°\n",
      "Maximum r Gradient =  0.020593760490032267\n",
      "Maximum angle Gradient =  -1.6518478632522555\n",
      "Minima r count: 3\n",
      "Minima angle count: 0\n",
      "Step_r: 0.013289344000000005\n",
      "Step_angle: 0.21400000000000002\n",
      "\n",
      "Done with theta optimization!\n",
      "Step = 15,  E = -75.02212335 Ha\n",
      "Bond length = 1.02512 A, Bond angle = 96.17075°\n",
      "Maximum r Gradient =  -0.03896282279728476\n",
      "Maximum angle Gradient =  -1.6903171893408317\n",
      "Minima r count: 4\n",
      "Minima angle count: 0\n",
      "Step_r: 0.012491983360000004\n",
      "Step_angle: 0.21500000000000002\n",
      "\n",
      "Done with theta optimization!\n",
      "Step = 16,  E = -75.02217113 Ha\n",
      "Bond length = 1.01263 A, Bond angle = 96.38574°\n",
      "Maximum r Gradient =  0.011451538440536174\n",
      "Maximum angle Gradient =  -0.005522294538244293\n",
      "Minima r count: 5\n",
      "Minima angle count: 0\n",
      "Step_r: 0.011742464358400003\n",
      "Step_angle: 0.21600000000000003\n",
      "\n",
      "Done with theta optimization!\n",
      "Step = 17,  E = -75.02246103 Ha\n",
      "Bond length = 1.02438 A, Bond angle = 96.60174°\n",
      "Maximum r Gradient =  -0.04061038306804767\n",
      "Maximum angle Gradient =  -0.002972558205233425\n",
      "Minima r count: 6\n",
      "Minima angle count: 0\n",
      "Step_r: 0.011037916496896002\n",
      "Step_angle: 0.21700000000000003\n",
      "\n",
      "Done with theta optimization!\n",
      "Step = 18,  E = -75.02239102 Ha\n",
      "Bond length = 1.01334 A, Bond angle = 96.81873°\n",
      "Maximum r Gradient =  0.004484653316361664\n",
      "Maximum angle Gradient =  -0.00295149963856024\n",
      "Minima r count: 7\n",
      "Minima angle count: 0\n",
      "Step_r: 0.01037564150708224\n",
      "Step_angle: 0.21800000000000003\n",
      "\n",
      "Done with theta optimization!\n",
      "Step = 19,  E = -75.02264496 Ha\n",
      "Bond length = 1.02371 A, Bond angle = 97.03669°\n",
      "Maximum r Gradient =  -0.0410741659190973\n",
      "Maximum angle Gradient =  -0.0006305220938900178\n",
      "Minima r count: 8\n",
      "Minima angle count: 0\n",
      "Step_r: 0.009753103016657305\n",
      "Step_angle: 0.21900000000000003\n",
      "\n",
      "Done with theta optimization!\n",
      "Step = 20,  E = -75.02254225 Ha\n",
      "Bond length = 1.03347 A, Bond angle = 96.81771°\n",
      "Maximum r Gradient =  -0.0008277020045033695\n",
      "Maximum angle Gradient =  0.0015913056154074606\n",
      "Minima r count: 0\n",
      "Minima angle count: 1\n",
      "Step_r: 0.010753103016657304\n",
      "Step_angle: 0.20586000000000002\n",
      "\n",
      "Done with theta optimization!\n",
      "Step = 21,  E = -75.02277530 Ha\n",
      "Bond length = 1.02271 A, Bond angle = 97.02353°\n",
      "Maximum r Gradient =  0.033579097583641374\n",
      "Maximum angle Gradient =  -0.0005595672859302504\n",
      "Minima r count: 1\n",
      "Minima angle count: 2\n",
      "Step_r: 0.010107916835657866\n",
      "Step_angle: 0.1935084\n",
      "\n",
      "Done with theta optimization!\n",
      "Step = 22,  E = -75.02270279 Ha\n",
      "Bond length = 1.03282 A, Bond angle = 96.83003°\n",
      "Maximum r Gradient =  -0.00868234001584195\n",
      "Maximum angle Gradient =  0.0015938887852286442\n",
      "Minima r count: 2\n",
      "Minima angle count: 3\n",
      "Step_r: 0.009501441825518393\n",
      "Step_angle: 0.18189789599999998\n",
      "\n",
      "Done with theta optimization!\n",
      "Step = 23,  E = -75.02285178 Ha\n",
      "Bond length = 1.02332 A, Bond angle = 97.01188°\n",
      "Maximum r Gradient =  0.027935073688782536\n",
      "Maximum angle Gradient =  -0.0003207110493724996\n",
      "Minima r count: 3\n",
      "Minima angle count: 4\n",
      "Step_r: 0.008931355315987289\n",
      "Step_angle: 0.17098402223999998\n",
      "\n",
      "Done with theta optimization!\n",
      "Step = 24,  E = -75.02280243 Ha\n",
      "Bond length = 1.03225 A, Bond angle = 96.84090°\n",
      "Maximum r Gradient =  -0.009200128513642977\n",
      "Maximum angle Gradient =  0.0015618696785718216\n",
      "Minima r count: 4\n",
      "Minima angle count: 5\n",
      "Step_r: 0.008395473997028051\n",
      "Step_angle: 0.16072498090559997\n",
      "\n",
      "Done with theta optimization!\n",
      "Step = 25,  E = -75.02289862 Ha\n",
      "Bond length = 1.02385 A, Bond angle = 97.00151°\n",
      "Maximum r Gradient =  0.023392117971349435\n",
      "Maximum angle Gradient =  -0.00013940316689716598\n",
      "Minima r count: 5\n",
      "Minima angle count: 6\n",
      "Step_r: 0.007891745557206368\n",
      "Step_angle: 0.15108148205126395\n",
      "\n",
      "Done with theta optimization!\n",
      "Step = 26,  E = -75.02286596 Ha\n",
      "Bond length = 1.03175 A, Bond angle = 96.85044°\n",
      "Maximum r Gradient =  -0.009268983415572987\n",
      "Maximum angle Gradient =  0.0015101691157358328\n",
      "Minima r count: 6\n",
      "Minima angle count: 7\n",
      "Step_r: 0.007418240823773986\n",
      "Step_angle: 0.1420165931281881\n",
      "\n",
      "Done with theta optimization!\n",
      "Step = 27,  E = -75.02292893 Ha\n",
      "Bond length = 1.02433 A, Bond angle = 96.73205°\n",
      "Maximum r Gradient =  0.019699139099357013\n",
      "Maximum angle Gradient =  5.010206679525661e-07\n",
      "Minima r count: 7\n",
      "Minima angle count: 0\n",
      "Step_r: 0.006973146374347546\n",
      "Step_angle: 0.1430165931281881\n",
      "\n"
     ]
    },
    {
     "name": "stdout",
     "output_type": "stream",
     "text": [
      "Done with theta optimization!\n",
      "Angle is optimized!\n",
      "Step = 28,  E = -75.02290869 Ha\n",
      "Bond length = 1.03130 A, Bond angle = 96.73205°\n",
      "Maximum r Gradient =  -0.00955484755556138\n",
      "Maximum angle Gradient =  5.010206679525661e-07\n",
      "Minima r count: 8\n",
      "Minima angle count: 0\n",
      "Step_r: 0.006554757591886693\n",
      "Step_angle: 0.1440165931281881\n",
      "\n",
      "Done with theta optimization!\n",
      "Angle is optimized!\n",
      "Step = 29,  E = -75.02294890 Ha\n",
      "Bond length = 1.02475 A, Bond angle = 96.73205°\n",
      "Maximum r Gradient =  0.016408992281157317\n",
      "Maximum angle Gradient =  5.010206679525661e-07\n",
      "Minima r count: 9\n",
      "Minima angle count: 0\n",
      "Step_r: 0.006161472136373491\n",
      "Step_angle: 0.1450165931281881\n",
      "\n",
      "Done with theta optimization!\n",
      "Angle is optimized!\n",
      "Step = 30,  E = -75.02293664 Ha\n",
      "Bond length = 1.03091 A, Bond angle = 96.73205°\n",
      "Maximum r Gradient =  -0.009168054367742554\n",
      "Maximum angle Gradient =  5.010206679525661e-07\n",
      "Minima r count: 10\n",
      "Minima angle count: 0\n",
      "Step_r: 0.005791783808191081\n",
      "Step_angle: 0.1460165931281881\n",
      "\n",
      "Done with theta optimization!\n",
      "Angle is optimized!\n",
      "Step = 31,  E = -75.02296260 Ha\n",
      "Bond length = 1.02512 A, Bond angle = 96.73205°\n",
      "Maximum r Gradient =  0.013864642384548015\n",
      "Maximum angle Gradient =  5.010206679525661e-07\n",
      "Minima r count: 11\n",
      "R minima detected. Adaptive learning rate increase terminated.\n",
      "Minima angle count: 0\n",
      "Step_r: 0.005444276779699616\n",
      "Step_angle: 0.1470165931281881\n",
      "\n",
      "Done with theta optimization!\n",
      "Angle is optimized!\n",
      "Step = 32,  E = -75.02295567 Ha\n",
      "Bond length = 1.03056 A, Bond angle = 96.73205°\n",
      "Maximum r Gradient =  -0.008671677561150073\n",
      "Maximum angle Gradient =  5.010206679525661e-07\n",
      "Total time: 1961.7320261001587 seconds\n",
      "\n",
      "Final value of the ground-state energy = -75.02295567 Ha\n",
      "\n",
      "Ground-state equilibrium geometry\n",
      "symbol    x        y        z\n",
      "  O    0.0000   0.7581   -0.5086\n",
      "  H    -1.4914   0.2982   -1.2394\n",
      "  H    -0.6885   2.1616   0.2167\n"
     ]
    }
   ],
   "source": [
    "from functools import partial\n",
    "\n",
    "# store the values of the cost function\n",
    "energy = []\n",
    "\n",
    "# store the values of the bond length\n",
    "bond_length = []\n",
    "bond_angle = []\n",
    "\n",
    "r_gradient = []\n",
    "angle_gradient = []\n",
    "\n",
    "r_optimized = False\n",
    "angle_optimized = False\n",
    "\n",
    "\n",
    "minima_r_convergence_detected = False\n",
    "minima_r_convergence_count = 0\n",
    "\n",
    "minima_angle_convergence_detected = False\n",
    "minima_angle_convergence_count = 0\n",
    "\n",
    "# Factor to convert from Bohrs to Angstroms\n",
    "bohr_angs = 0.529177210903\n",
    "\n",
    "n = 0\n",
    "eps = 1e-05\n",
    "\n",
    "start = time.time()\n",
    "while True:\n",
    "\n",
    "  # Optimize the circuit parameters\n",
    "    theta.requires_grad = True\n",
    "    r.requires_grad = False\n",
    "    angle.requires_grad = False\n",
    "    theta, _, _ = opt_theta.step(cost, theta, r, angle)\n",
    "    #theta  = opt_theta.step(cost_fn, theta) # used with \"QNGOptimizer()\"\n",
    "    print(\"Done with theta optimization!\")\n",
    "\n",
    "  # Optimize the nuclear coordinate bond length\n",
    "    theta.requires_grad = False\n",
    "    r.requires_grad = True\n",
    "    angle.requires_grad = False\n",
    "    if (not r_optimized):\n",
    "        _, r, _ = opt_r.step(cost, theta, r, angle, grad_fn=grad_r)\n",
    "    else:\n",
    "        print(\"Bond length is optimized!\")\n",
    "        \n",
    "  # Optimize the nuclear coordinate bond angle\n",
    "    theta.requires_grad = False\n",
    "    r.requires_grad = False\n",
    "    angle.requires_grad = True\n",
    "    if (not angle_optimized):\n",
    "        _, _, angle = opt_angle.step(cost, theta, r, angle, grad_fn=grad_angle)\n",
    "    else:\n",
    "        print(\"Angle is optimized!\")\n",
    "\n",
    "  # Append current gradient descent statistics\n",
    "    energy.append(cost(theta, r, angle))\n",
    "    bond_length.append(r[0])\n",
    "    bond_angle.append(angle[0])\n",
    "    maximum_grad = np.max(r_gradient[-1])\n",
    "    maximun_angle = np.max(angle_gradient[-1])\n",
    "    \n",
    "\n",
    "    if n % 1 == 0:\n",
    "        print(f\"Step = {n},  E = {energy[-1]:.8f} Ha\")\n",
    "        print(f\"Bond length = {bond_length[-1]:.5f} A, Bond angle = {bond_angle[-1]:.5f}\" + '\\u00b0')\n",
    "\n",
    "        print(\"Maximum r Gradient = \", maximum_grad)\n",
    "        print(\"Maximum angle Gradient = \", maximun_angle)  \n",
    "        \n",
    "  # Check maximum component of the nuclear gradient\n",
    "    if np.abs(maximum_grad) <= 1e-05:\n",
    "        r_optimized = True\n",
    "        \n",
    "    if np.abs(maximun_angle) <= 1e-05:\n",
    "        angle_optimized = True\n",
    "        \n",
    "        \n",
    "    n += 1\n",
    "    \n",
    "    if n <= 1:\n",
    "        continue\n",
    "        \n",
    "    if (r_optimized and angle_optimized) or np.abs(energy[-2]-energy[-1]) < eps:\n",
    "        break\n",
    "        \n",
    "        \n",
    "    if r_gradient[-1][0] * r_gradient[-2][0] < 0:\n",
    "        if minima_r_convergence_count > 20:\n",
    "            step_r = step_r * 0.40\n",
    "        else:\n",
    "            step_r = step_r * 0.94 # change learning-rate\n",
    "        opt_r = qml.AdamOptimizer(stepsize=step_r) # re-initialize optimizer with adaptively-changed learning rate\n",
    "        \n",
    "        minima_r_convergence_count += 1\n",
    "        if minima_r_convergence_count > 10:\n",
    "            minima_r_convergence_detected = True\n",
    "    else:\n",
    "        # If similar sign, then reset convergence count to 0:\n",
    "        minima_r_convergence_count = 0\n",
    "        \n",
    "        if (not minima_r_convergence_detected):\n",
    "            step_r = step_r + 0.001 # change learning-rate\n",
    "            opt_r = qml.AdamOptimizer(stepsize=step_r) # re-initialize optimizer with adaptively-changed learning rate\n",
    "         \n",
    "        \n",
    "    if angle_gradient[-1][0] * angle_gradient[-2][0] < 0:\n",
    "        \n",
    "        if minima_angle_convergence_count > 20:\n",
    "            step_angle = step_angle * 0.40\n",
    "        else:\n",
    "            step_angle = step_angle * 0.94 # change learning-rate\n",
    "        opt_angle = qml.AdamOptimizer(stepsize=step_angle) # re-initialize optimizer with adaptively-changed learning rate\n",
    "        \n",
    "        minima_angle_convergence_count += 1\n",
    "        if minima_angle_convergence_count > 10:\n",
    "            minima_angle_convergence_detected = True\n",
    "    else:   \n",
    "        # If similar sign, then reset convergence count to 0:\n",
    "        minima_angle_convergence_count = 0\n",
    "        \n",
    "        if (not minima_angle_convergence_detected):\n",
    "            step_angle = step_angle + 0.001 # change learning-rate\n",
    "            opt_angle = qml.AdamOptimizer(stepsize=step_angle) # re-initialize optimizer with adaptively-changed learning rate\n",
    "            \n",
    "    print(\"Minima r count:\", minima_r_convergence_count)\n",
    "    if minima_r_convergence_detected:\n",
    "        print(\"R minima detected. Adaptive learning rate increase terminated.\")\n",
    "    print(\"Minima angle count:\", minima_angle_convergence_count)\n",
    "    if minima_angle_convergence_detected:\n",
    "        print(\"Angle minima detected. Adaptive learning rate increase terminated.\")\n",
    "    print(\"Step_r:\", step_r)\n",
    "    print(\"Step_angle:\", step_angle)\n",
    "    print(\"\")\n",
    "    \n",
    "print(\"Total time:\", time.time()-start, \"seconds\")\n",
    "\n",
    "print(\"\\n\" f\"Final value of the ground-state energy = {energy[-1]:.8f} Ha\")\n",
    "print(\"\\n\" \"Ground-state equilibrium geometry\")\n",
    "print(\"%s %4s %8s %8s\" % (\"symbol\", \"x\", \"y\", \"z\"))\n",
    "for i, atom in enumerate(symbols):\n",
    "    print(f\"  {atom}    {x[3 * i]:.4f}   {x[3 * i + 1]:.4f}   {x[3 * i + 2]:.4f}\")"
   ]
  },
  {
   "cell_type": "code",
   "execution_count": 36,
   "id": "879c0421",
   "metadata": {},
   "outputs": [
    {
     "data": {
      "text/plain": [
       "(tensor(1.03056002, requires_grad=False),\n",
       " tensor(96.73205336, requires_grad=True),\n",
       " 33)"
      ]
     },
     "execution_count": 36,
     "metadata": {},
     "output_type": "execute_result"
    }
   ],
   "source": [
    "bond_length[-1], bond_angle[-1], len(bond_length)"
   ]
  },
  {
   "cell_type": "code",
   "execution_count": 23,
   "id": "b5c9c057",
   "metadata": {
    "scrolled": true
   },
   "outputs": [
    {
     "data": {
      "image/png": "[encoded data removed]",
      "text/plain": [
       "<Figure size 640x480 with 1 Axes>"
      ]
     },
     "metadata": {},
     "output_type": "display_data"
    }
   ],
   "source": [
    "import matplotlib.pyplot as plt\n",
    "np_bl = np.array(bond_length)\n",
    "np_ba = np.array(bond_angle)\n",
    "np_en = np.array(energy)\n",
    "plt.plot(np_bl)\n",
    "plt.xlabel(\"Steps, n\")\n",
    "plt.ylabel(\"Angstroms, Å\")\n",
    "plt.title(\"Bond length (r) optimization convergence\")\n",
    "plt.grid(True)"
   ]
  },
  {
   "cell_type": "code",
   "execution_count": 26,
   "id": "f80d1c67",
   "metadata": {},
   "outputs": [
    {
     "data": {
      "image/png": "[encoded data removed]",
      "text/plain": [
       "<Figure size 640x480 with 1 Axes>"
      ]
     },
     "metadata": {},
     "output_type": "display_data"
    }
   ],
   "source": [
    "plt.plot(np_ba)\n",
    "plt.xlabel(\"Steps, n\")\n",
    "plt.ylabel(\"Degrees, \\u00b0\")\n",
    "plt.title(\"Bond angle (\\u00b0) optimization convergence\")\n",
    "plt.grid(True)"
   ]
  },
  {
   "cell_type": "code",
   "execution_count": 34,
   "id": "ccf9e341",
   "metadata": {},
   "outputs": [
    {
     "data": {
      "image/png": "[encoded data removed]",
      "text/plain": [
       "<Figure size 640x480 with 1 Axes>"
      ]
     },
     "metadata": {},
     "output_type": "display_data"
    }
   ],
   "source": [
    "plt.plot(energy)\n",
    "plt.xlabel(\"Steps, n\")\n",
    "plt.ylabel(\"Energy, Ha\")\n",
    "plt.title(\"Energy (Ha) Convergence, Relative\")\n",
    "\n",
    "plt.axhline(y=-75.01250626334813, color='r', linestyle='--')\n",
    "plt.text(15, -75.01, 'FCI energy', horizontalalignment='right')\n",
    "\n",
    "plt.grid(True)"
   ]
  },
  {
   "cell_type": "code",
   "execution_count": 29,
   "id": "6dbcde0e",
   "metadata": {},
   "outputs": [
    {
     "data": {
      "image/png": "[encoded data removed]",
      "text/plain": [
       "<Figure size 640x480 with 1 Axes>"
      ]
     },
     "metadata": {},
     "output_type": "display_data"
    }
   ],
   "source": [
    "plt.plot(np_bl, np_en)\n",
    "plt.xlabel(\"Bond Length, n\")\n",
    "plt.ylabel(\"Energy, Ha\")\n",
    "plt.title(\"Energy (Ha) optimization convergence water, e-= 8, mo orbitals=6\")\n",
    "plt.grid(True)"
   ]
  },
  {
   "cell_type": "code",
   "execution_count": 31,
   "id": "7ff135df",
   "metadata": {},
   "outputs": [
    {
     "data": {
      "image/png": "[encoded data removed]",
      "text/plain": [
       "<Figure size 640x480 with 1 Axes>"
      ]
     },
     "metadata": {},
     "output_type": "display_data"
    }
   ],
   "source": [
    "plt.plot(np_ba, np_en)\n",
    "plt.xlabel(\"Bond Angle, n\")\n",
    "plt.ylabel(\"Energy, Ha\")\n",
    "plt.title(\"Energy (Ha) optimization convergence water, e-= 8, mo orbitals=6\")\n",
    "plt.grid(True)"
   ]
  },
  {
   "cell_type": "code",
   "execution_count": null,
   "id": "0e8f3ef9",
   "metadata": {},
   "outputs": [],
   "source": []
  },
  {
   "cell_type": "code",
   "execution_count": null,
   "id": "d3d34798",
   "metadata": {},
   "outputs": [],
   "source": [
    "x"
   ]
  },
  {
   "cell_type": "code",
   "execution_count": null,
   "id": "df511f9d",
   "metadata": {},
   "outputs": [],
   "source": [
    "# Code for preparing ansatz:\n",
    "\n",
    "from pyscf import gto, scf, ci\n",
    "from pennylane.qchem import import_state\n",
    "from pennylane import numpy as np\n",
    "\n",
    "num_qubits = 14\n",
    "def circuit(theta, initial_state):\n",
    "    # prepares reference state\n",
    "    qml.StatePrep(initial_state, wires=range(num_qubits))\n",
    "        \n",
    "    # apply 2 gates for simplicty:\n",
    "    qml.SingleExcitation(theta[0], wires=[1, 3])\n",
    "    qml.DoubleExcitation(theta[1], wires=[0, 1, 4, 5])\n",
    "                             \n",
    "    # returns expectation value of the ansatz prepared from this quantum circuit:   \n",
    "    return qml.expval(hamiltonian)\n",
    "\n",
    "def H(x):\n",
    "    return qml.qchem.molecular_hamiltonian(symbols, x, charge=0, active_electrons = active_electrons, \n",
    "                                           active_orbitals = active_orbitals)[0]\n",
    "\n",
    "symbols = [\"O\", \"H\", \"H\"]\n",
    "active_electrons = 8; active_orbitals = 6\n",
    "qubits = active_orbitals * 2\n",
    "theta = np.array([0.0] * 2, requires_grad=True)\n",
    "x = x\n",
    "hamiltonian = H(x)\n",
    "\n",
    "# create the H2O molecule\n",
    "mol = gto.M(atom=[[\"O\", (0.        ,  0.7581    , -0.5086)],\n",
    "                  [\"H\", (-1.49139892,  0.29819887, -1.2393812)],\n",
    "                  [\"H\", (-0.68850404,  2.16155953,  0.21671681)]], charge=0)\n",
    "\n",
    "# Create cisd initial state for the selected active-space\n",
    "# prepare for active space of 8-electrons, 3-orbitals\n",
    "mol.nelectron = 8\n",
    "mol.build()\n",
    "\n",
    "# perfrom restricted Hartree-Fock and then CISD\n",
    "myhf = scf.RHF(mol).run()\n",
    "myci = ci.CISD(myhf).run()\n",
    "wf_cisd = import_state(myci, tol=1e-1)\n",
    "print(f\"CISD-based state vector: \\n{np.round(wf_cisd.real, 4)}\")\n",
    "\n",
    "# Finally, calculate observable\n",
    "print(circuit(theta, wf_cisd))"
   ]
  },
  {
   "cell_type": "code",
   "execution_count": null,
   "id": "0b348f0c",
   "metadata": {},
   "outputs": [],
   "source": [
    "len(wf_cisd)"
   ]
  },
  {
   "cell_type": "code",
   "execution_count": null,
   "id": "4da586d5",
   "metadata": {},
   "outputs": [],
   "source": [
    "np.log2(len(wf_cisd))"
   ]
  },
  {
   "cell_type": "code",
   "execution_count": null,
   "id": "1d7901a6",
   "metadata": {},
   "outputs": [],
   "source": [
    "wf_cisd"
   ]
  },
  {
   "cell_type": "code",
   "execution_count": 50,
   "id": "cdb8a128",
   "metadata": {},
   "outputs": [],
   "source": [
    "r_test = np.array([2], requires_grad = True)\n",
    "angle_test = np.array([96], requires_grad = True)"
   ]
  },
  {
   "cell_type": "code",
   "execution_count": 51,
   "id": "38c69b05",
   "metadata": {},
   "outputs": [
    {
     "data": {
      "text/plain": [
       "tensor([-0.02727727], requires_grad=True)"
      ]
     },
     "execution_count": 51,
     "metadata": {},
     "output_type": "execute_result"
    }
   ],
   "source": [
    "grad_r(theta, r_test, angle_test)"
   ]
  },
  {
   "cell_type": "code",
   "execution_count": 97,
   "id": "ebae7b5f",
   "metadata": {},
   "outputs": [],
   "source": [
    "def grad_r_fs(params, r, angle): #evaluate the expectation of the gradient components (each of the nuclear components of the Hamiltonian)\n",
    "    grad_h = finite_diff_r(H, r,angle)\n",
    "    grad = [circuit(params, obs=obs, wires=range(num_wires)) for obs in grad_h]\n",
    "    \n",
    "    r_gradient.append(grad)\n",
    "    \n",
    "    return np.array(grad)"
   ]
  },
  {
   "cell_type": "code",
   "execution_count": 98,
   "id": "a1c95ade",
   "metadata": {},
   "outputs": [],
   "source": [
    "def grad_r_fd(params, r, angle): #evaluate the expectation of the gradient components (each of the nuclear components of the Hamiltonian)\n",
    "    grad_h = finite_diff_r_fd(H, r,angle)\n",
    "    grad = [circuit(params, obs=obs, wires=range(num_wires)) for obs in grad_h]\n",
    "    \n",
    "    r_gradient.append(grad)\n",
    "    \n",
    "    return np.array(grad)"
   ]
  },
  {
   "cell_type": "code",
   "execution_count": 100,
   "id": "b83b12ae",
   "metadata": {},
   "outputs": [
    {
     "data": {
      "text/plain": [
       "(tensor([1.65394412], requires_grad=True),\n",
       " tensor([0.00560037], requires_grad=True))"
      ]
     },
     "execution_count": 100,
     "metadata": {},
     "output_type": "execute_result"
    }
   ],
   "source": [
    "r_test = 1.028\n",
    "angle_test = 96.77\n",
    "grad_r_fs(theta, r_test, angle_test), grad_r_fd(theta, r_test, angle_test)"
   ]
  },
  {
   "cell_type": "code",
   "execution_count": 102,
   "id": "2a50f0ca",
   "metadata": {},
   "outputs": [
    {
     "data": {
      "text/plain": [
       "(tensor([-0.02035179], requires_grad=True),\n",
       " tensor([-0.01790764], requires_grad=True))"
      ]
     },
     "execution_count": 102,
     "metadata": {},
     "output_type": "execute_result"
    }
   ],
   "source": [
    "r_test = 1.022\n",
    "angle_test = 96.77\n",
    "grad_r_fs(theta, r_test, angle_test), grad_r_fd(theta, r_test, angle_test)"
   ]
  },
  {
   "cell_type": "code",
   "execution_count": 103,
   "id": "3e33d6c0",
   "metadata": {},
   "outputs": [
    {
     "data": {
      "text/plain": [
       "(tensor([-0.01636842], requires_grad=True),\n",
       " tensor([-0.01393687], requires_grad=True))"
      ]
     },
     "execution_count": 103,
     "metadata": {},
     "output_type": "execute_result"
    }
   ],
   "source": [
    "r_test = 1.023\n",
    "angle_test = 96.77\n",
    "grad_r_fs(theta, r_test, angle_test), grad_r_fd(theta, r_test, angle_test)"
   ]
  },
  {
   "cell_type": "code",
   "execution_count": 104,
   "id": "7a9b2649",
   "metadata": {},
   "outputs": [
    {
     "data": {
      "text/plain": [
       "(tensor([-0.01240637], requires_grad=True),\n",
       " tensor([-0.00998734], requires_grad=True))"
      ]
     },
     "execution_count": 104,
     "metadata": {},
     "output_type": "execute_result"
    }
   ],
   "source": [
    "r_test = 1.024\n",
    "angle_test = 96.77\n",
    "grad_r_fs(theta, r_test, angle_test), grad_r_fd(theta, r_test, angle_test)"
   ]
  },
  {
   "cell_type": "code",
   "execution_count": 105,
   "id": "ba83fa2b",
   "metadata": {},
   "outputs": [
    {
     "data": {
      "text/plain": [
       "(tensor([1.63710555], requires_grad=True),\n",
       " tensor([-0.00605897], requires_grad=True))"
      ]
     },
     "execution_count": 105,
     "metadata": {},
     "output_type": "execute_result"
    }
   ],
   "source": [
    "r_test = 1.025\n",
    "angle_test = 96.77\n",
    "grad_r_fs(theta, r_test, angle_test), grad_r_fd(theta, r_test, angle_test)"
   ]
  },
  {
   "cell_type": "code",
   "execution_count": 106,
   "id": "dce4b979",
   "metadata": {},
   "outputs": [
    {
     "data": {
      "text/plain": [
       "(tensor([1.64274259], requires_grad=True),\n",
       " tensor([-0.00215162], requires_grad=True))"
      ]
     },
     "execution_count": 106,
     "metadata": {},
     "output_type": "execute_result"
    }
   ],
   "source": [
    "r_test = 1.026\n",
    "angle_test = 96.77\n",
    "grad_r_fs(theta, r_test, angle_test), grad_r_fd(theta, r_test, angle_test)"
   ]
  },
  {
   "cell_type": "code",
   "execution_count": 107,
   "id": "1427d868",
   "metadata": {},
   "outputs": [
    {
     "data": {
      "text/plain": [
       "(tensor([1.64835542], requires_grad=True),\n",
       " tensor([0.00173478], requires_grad=True))"
      ]
     },
     "execution_count": 107,
     "metadata": {},
     "output_type": "execute_result"
    }
   ],
   "source": [
    "r_test = 1.027\n",
    "angle_test = 96.77\n",
    "grad_r_fs(theta, r_test, angle_test), grad_r_fd(theta, r_test, angle_test)"
   ]
  },
  {
   "cell_type": "code",
   "execution_count": 108,
   "id": "82f847ce",
   "metadata": {},
   "outputs": [
    {
     "data": {
      "text/plain": [
       "(tensor([1.65394412], requires_grad=True),\n",
       " tensor([0.00560037], requires_grad=True))"
      ]
     },
     "execution_count": 108,
     "metadata": {},
     "output_type": "execute_result"
    }
   ],
   "source": [
    "r_test = 1.028\n",
    "angle_test = 96.77\n",
    "grad_r_fs(theta, r_test, angle_test), grad_r_fd(theta, r_test, angle_test)"
   ]
  },
  {
   "cell_type": "code",
   "execution_count": null,
   "id": "0922cb22",
   "metadata": {},
   "outputs": [],
   "source": []
  }
 ],
 "metadata": {
  "kernelspec": {
   "display_name": "Python 3 (ipykernel)",
   "language": "python",
   "name": "python3"
  },
  "language_info": {
   "codemirror_mode": {
    "name": "ipython",
    "version": 3
   },
   "file_extension": ".py",
   "mimetype": "text/x-python",
   "name": "python",
   "nbconvert_exporter": "python",
   "pygments_lexer": "ipython3",
   "version": "3.11.5"
  }
 },
 "nbformat": 4,
 "nbformat_minor": 5
}
