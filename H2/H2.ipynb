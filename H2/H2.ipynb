{
 "cells": [
  {
   "cell_type": "code",
   "execution_count": 1,
   "id": "3febfcee",
   "metadata": {},
   "outputs": [],
   "source": [
    "%matplotlib widget\n",
    "import numpy as np_orig\n",
    "import matplotlib.pyplot as plt\n",
    "def plot_3d(x):\n",
    "    X = [x[0], x[3], x[6]]\n",
    "    Y = [x[1], x[4], x[7]]\n",
    "    Z = [x[2], x[5], x[8]]\n",
    "    fig = plt.figure()\n",
    "    ax = plt.axes(projection='3d')\n",
    "    labels = ['H1', 'H2', 'H3']\n",
    "    plt.title(\"Tri-Hydronium Molecule\")\n",
    "    \n",
    "    ax.text(x[0], x[1], x[2], 'O', color='red')\n",
    "    ax.text(x[3], x[4], x[5], 'H1', color='red')\n",
    "    ax.text(x[6], x[7], x[8], 'H2', color='red')\n",
    "    \n",
    "    ax.scatter3D(X,Y,Z)\n",
    "    ax.set_xlabel('x-axis')\n",
    "    ax.set_ylabel('y-axis')\n",
    "    ax.set_zlabel('z-axis')"
   ]
  },
  {
   "cell_type": "code",
   "execution_count": 1,
   "id": "73e420d0",
   "metadata": {},
   "outputs": [],
   "source": [
    "import math\n",
    "\n",
    "def R_from_axis_angle(axis, angle):\n",
    "    \"\"\" Find the rotation matrix R(K, theta) \n",
    "        @param axis (K): axis of rotation and \n",
    "        @param theta: rotation angle in degrees\n",
    "        @return R: rotation matrix (3x3 numpy array)\n",
    "    \"\"\"\n",
    "    sina = math.sin(angle * np.pi/180) # convert to radians\n",
    "    cosa = math.cos(angle * np.pi/180) # convert to radians\n",
    "    axis = unit_vector(axis[:3])\n",
    "    kx = axis[0]; ky = axis[1]; kz = axis[2]\n",
    "    # rotation matrix around unit vector\n",
    "    \n",
    "    R = np.array([\n",
    "                [(kx**2)*(1-cosa) + cosa, kx*ky*(1-cosa)-kz*sina, kx*kz*(1-cosa)+ky*sina],\n",
    "                [kx*ky*(1-cosa)+kz*sina, (ky**2)*(1-cosa) + cosa, ky*kz*(1-cosa)-kx*sina],\n",
    "                [kx*kz*(1-cosa)-ky*sina, ky*kz*(1-cosa)+kx*sina, (kz**2)*(1-cosa) + cosa]\n",
    "                ])\n",
    "    \n",
    "    return R\n",
    "\n",
    "def rotate_water(x, axis, angle):\n",
    "    rotation_matrix = R_from_axis_angle(axis, angle)\n",
    "    new_x = np.array([0.0, 0.0, 0.0,0.0, 0.0, 0.0], requires_grad=True)\n",
    "    \n",
    "    # Rotate each vertex\n",
    "    point1 = x[0:3]\n",
    "    point1_rot = np.dot(rotation_matrix, point1)\n",
    "    point1_rot += transl_vec\n",
    "    new_x[0:3] = point1_rot\n",
    "    \n",
    "    point2 = x[3:6]\n",
    "    point2_rot = np.dot(rotation_matrix, point2)\n",
    "    point2_rot += transl_vec\n",
    "    new_x[3:6] = point2_rot\n",
    "    \n",
    "    return new_x"
   ]
  },
  {
   "cell_type": "code",
   "execution_count": 2,
   "id": "ccd9618a",
   "metadata": {},
   "outputs": [],
   "source": [
    "# Factor to convert from Bohrs to Angstroms\n",
    "bohr_angs = 0.529177210903\n",
    "\n",
    "def build_xyz(r): # prepares an equilateral triagnle's coordinates of H3+!\n",
    "    r = r/bohr_angs\n",
    "    x = np.array([0.0, 0.0, 0.0, 0.0, 0.0, 0.0])\n",
    "    \n",
    "    x[2] = -r/2\n",
    "    x[5] = +r/2\n",
    "    \n",
    "    # rotate water:\n",
    "    new_x = rotate_water(x, axis, rot_angle)\n",
    "    \n",
    "    return new_x\n",
    "\n",
    "# functions to keep track of convergence of O-H1, O-H2 bond angle during water's geometry optimization\n",
    "\n",
    "import math\n",
    "\n",
    "def unit_vector(vector):\n",
    "    \"\"\" Returns the unit vector of the vector.  \"\"\"\n",
    "    return vector / np.linalg.norm(vector)\n",
    "\n",
    "def angle_between(v1, v2):\n",
    "    \"\"\" Returns the angle in radians between vectors 'v1' and 'v2':\n",
    "\n",
    "            >>> angle_between((1, 0, 0), (0, 1, 0))\n",
    "            1.5707963267948966\n",
    "            >>> angle_between((1, 0, 0), (1, 0, 0))\n",
    "            0.0\n",
    "            >>> angle_between((1, 0, 0), (-1, 0, 0))\n",
    "            3.141592653589793\n",
    "    \"\"\"\n",
    "    v1_u = unit_vector(v1)\n",
    "    v2_u = unit_vector(v2)\n",
    "    return (np.arccos(np.clip(np.dot(v1_u, v2_u), -1.0, 1.0)) * 180/math.pi) #convert to degrees"
   ]
  },
  {
   "cell_type": "code",
   "execution_count": 3,
   "id": "8bf4a589",
   "metadata": {},
   "outputs": [
    {
     "name": "stdout",
     "output_type": "stream",
     "text": [
      "[1 1]\n"
     ]
    }
   ],
   "source": [
    "################ Code from the 'Optimization of molecular geometries' tutorial##################\n",
    "# imports and relevant defines:\n",
    "import pennylane as qml\n",
    "from pennylane import qchem\n",
    "from pennylane import numpy as np\n",
    "import time\n",
    "\n",
    "# Simulation starting parameters:\n",
    "symbols = [\"H\", \"H\"]\n",
    "\n",
    "# this is selected from the tutorial 'Building molecular Hamiltonians', which has the same nulcear-coordinats for water\n",
    "x = np.array([0.85290734, 0.4042742 , 0.62859077, 0.66329266, 1.1119258 ,\n",
    "        0.88760923], requires_grad=True)\n",
    "\n",
    "# these parameters are used to match up with the parameters for the VQE run on water in the paper: https://arxiv.org/pdf/2106.13840.pdf\n",
    "active_electrons = 2\n",
    "active_orbitals = 2\n",
    "\n",
    "# define the hamiltonian needed to compute cost-function\n",
    "def H(x):\n",
    "    return qml.qchem.molecular_hamiltonian(symbols, x)[0]\n",
    "\n",
    "hf = qml.qchem.hf_state(electrons=2, orbitals=2)\n",
    "print(hf)\n",
    "num_wires = 6"
   ]
  },
  {
   "cell_type": "code",
   "execution_count": 4,
   "id": "8666f2e4",
   "metadata": {},
   "outputs": [
    {
     "name": "stdout",
     "output_type": "stream",
     "text": [
      "[1 1 0 0]\n",
      "Computed gradients for all possible Double Excitation Gates: \n",
      "\n",
      "Excitation : [0, 1, 2, 3], Gradient: -0.16497372126963\n",
      "\n",
      "Number of selected double-excitation gates:  1\n",
      "Done!\n",
      "Computed gradients for all possible Single Excitation Gates: \n",
      "\n",
      "Excitation : [0, 2], Gradient: 0.0\n",
      "Excitation : [1, 3], Gradient: 0.0\n",
      "\n",
      "Number of selected single-excitation gates:  0\n",
      "Total selected gates: 1\n"
     ]
    }
   ],
   "source": [
    "################ Code from the 'Building the adaptive circuit' tutorial below:################\n",
    "active_electrons = active_electrons\n",
    "active_orbitals = active_orbitals\n",
    "\n",
    "H, qubits = qml.qchem.molecular_hamiltonian(symbols, x)\n",
    "singles, doubles = qchem.excitations(active_electrons, qubits)\n",
    "\n",
    "hf_state = qchem.hf_state(active_electrons, qubits)\n",
    "print(hf_state)\n",
    "\n",
    "\n",
    "#qubits = 14\n",
    "#compute the significant double-excitation gates:\n",
    "def circuit_1(params, excitations):\n",
    "    qml.BasisState(hf_state, wires=range(qubits))\n",
    "    #qml.StatePrep(wf_cisd, wires=range(qubits))\n",
    "\n",
    "    for i, excitation in enumerate(excitations):\n",
    "        if len(excitation) == 4:\n",
    "            qml.DoubleExcitation(params[i], wires=excitation)\n",
    "        else:\n",
    "            qml.SingleExcitation(params[i], wires=excitation)\n",
    "    return qml.expval(H)\n",
    "\n",
    "dev = qml.device(\"default.qubit\", wires=qubits)\n",
    "cost_fn = qml.QNode(circuit_1, dev, interface=\"autograd\")\n",
    "circuit_gradient = qml.grad(cost_fn, argnum=0)\n",
    "params = [0.0] * len(doubles)\n",
    "grads = circuit_gradient(params, excitations=doubles)\n",
    "print(\"Computed gradients for all possible Double Excitation Gates: \\n\")\n",
    "for i in range(len(doubles)):\n",
    "    print(f\"Excitation : {doubles[i]}, Gradient: {grads[i]}\")   \n",
    "doubles_select = [doubles[i] for i in range(len(doubles)) if abs(grads[i]) > 1.0e-5]\n",
    "print(\"\")\n",
    "print(\"Number of selected double-excitation gates: \", len(doubles_select))\n",
    "\n",
    "\n",
    "\n",
    "# optimizing the parameters for the double-excitation gates for Ansatz-wavefunction construction\n",
    "opt = qml.GradientDescentOptimizer(stepsize=0.5)\n",
    "params_doubles = np.zeros(len(doubles_select), requires_grad=True)\n",
    "for n in range(20):\n",
    "    params_doubles = opt.step(cost_fn, params_doubles, excitations=doubles_select)\n",
    "print(\"Done!\")\n",
    "\n",
    "\n",
    "\n",
    "#compute the significant single-excitation gates:\n",
    "def circuit_2(params, excitations, gates_select, params_select):\n",
    "    qml.BasisState(hf_state, wires=range(qubits))\n",
    "    #qml.StatePrep(wf_cisd, wires=range(qubits))\n",
    "\n",
    "    for i, gate in enumerate(gates_select):\n",
    "        if len(gate) == 4:\n",
    "            qml.DoubleExcitation(params_select[i], wires=gate)\n",
    "        elif len(gate) == 2:\n",
    "            qml.SingleExcitation(params_select[i], wires=gate)\n",
    "\n",
    "    for i, gate in enumerate(excitations):\n",
    "        if len(gate) == 4:\n",
    "            qml.DoubleExcitation(params[i], wires=gate)\n",
    "        elif len(gate) == 2:\n",
    "            qml.SingleExcitation(params[i], wires=gate)\n",
    "    return qml.expval(H)\n",
    "\n",
    "\n",
    "cost_fn = qml.QNode(circuit_2, dev, interface=\"autograd\")\n",
    "circuit_gradient = qml.grad(cost_fn, argnum=0)\n",
    "params = [0.0] * len(singles)\n",
    "grads = circuit_gradient(\n",
    "    params,\n",
    "    excitations=singles,\n",
    "    gates_select=doubles_select,\n",
    "    params_select=params_doubles\n",
    ")\n",
    "print(\"Computed gradients for all possible Single Excitation Gates: \\n\")\n",
    "for i in range(len(singles)):\n",
    "    print(f\"Excitation : {singles[i]}, Gradient: {grads[i]}\")\n",
    "singles_select = [singles[i] for i in range(len(singles)) if abs(grads[i]) > 1.0e-5]\n",
    "print(\"\")\n",
    "print(\"Number of selected single-excitation gates: \", len(singles_select))\n",
    "\n",
    "#Total Number of Gates selected to construct the Quantum Ansatz:\n",
    "print(\"Total selected gates: \"+  str(len(doubles_select) + len(singles_select)))\n",
    "\n",
    "################# End code from the 'Building the adaptive circuit' tutorial ##################"
   ]
  },
  {
   "cell_type": "code",
   "execution_count": 5,
   "id": "8b75e412",
   "metadata": {},
   "outputs": [
    {
     "data": {
      "text/plain": [
       "1"
      ]
     },
     "execution_count": 5,
     "metadata": {},
     "output_type": "execute_result"
    }
   ],
   "source": [
    "len(doubles_select) + len(singles_select)"
   ]
  },
  {
   "cell_type": "code",
   "execution_count": 6,
   "id": "196e8493",
   "metadata": {},
   "outputs": [
    {
     "data": {
      "text/plain": [
       "3"
      ]
     },
     "execution_count": 6,
     "metadata": {},
     "output_type": "execute_result"
    }
   ],
   "source": [
    "len(singles) + len(doubles)"
   ]
  },
  {
   "cell_type": "code",
   "execution_count": 7,
   "id": "9f1b07c0",
   "metadata": {},
   "outputs": [],
   "source": [
    "#len(wf_cisd)"
   ]
  },
  {
   "cell_type": "code",
   "execution_count": 57,
   "id": "24864f5f",
   "metadata": {},
   "outputs": [
    {
     "data": {
      "text/plain": [
       "4"
      ]
     },
     "execution_count": 57,
     "metadata": {},
     "output_type": "execute_result"
    }
   ],
   "source": [
    "qubits"
   ]
  },
  {
   "cell_type": "code",
   "execution_count": 9,
   "id": "4298e315",
   "metadata": {},
   "outputs": [],
   "source": [
    "################ Resume from the 'Optimization of molecular geometries' tutorial below: ################\n",
    "\n",
    "#Construct optimized parametrized circuit that will be used to run the optimized VQE algorithm\n",
    "# using the selected single and double excitation gates:\n",
    "#num_wires = 14\n",
    "num_wires = qubits\n",
    "dev = qml.device(\"lightning.qubit\", wires=num_wires)\n",
    "@qml.qnode(dev, interface=\"autograd\")\n",
    "def circuit(params, obs, wires):\n",
    "    # prepares Hartee-fock state:\n",
    "    qml.BasisState(hf_state, wires=wires)\n",
    "    #qml.StatePrep(wf_cisd, wires=wires)\n",
    "    \n",
    "    # apply all single excitations\n",
    "    for i, singles in enumerate(singles_select):\n",
    "        qml.SingleExcitation(params[i], wires=singles)\n",
    "        \n",
    "    # apply all double excitations\n",
    "    for j, doubles in enumerate(doubles_select):\n",
    "        qml.DoubleExcitation(params[j + len(singles_select)], wires=doubles)\n",
    "                             \n",
    "    # returns expectation value of the ansatz prepared from this quantum circuit:   \n",
    "    return qml.expval(obs)\n",
    "\n",
    "################################ Z-Matrix Modifications: ################################# \n",
    "def cost(params, r):\n",
    "    hamiltonian = H(build_xyz(r[0]))\n",
    "    return circuit(params, obs=hamiltonian, wires=range(num_wires))\n",
    "\n",
    "def circuit1(params, obs, wires):\n",
    "    # prepares Hartee-fock state:\n",
    "    qml.BasisState(hf_state, wires=wires)\n",
    "    #qml.StatePrep(wf_cisd, wires=wires)\n",
    "    \n",
    "    # apply all single excitations\n",
    "    for i, singles in enumerate(singles_select):\n",
    "        qml.SingleExcitation(params[i], wires=singles)\n",
    "        \n",
    "    # apply all double excitations\n",
    "    for j, doubles in enumerate(doubles_select):\n",
    "        qml.DoubleExcitation(params[j + len(singles_select)], wires=doubles)\n",
    "                             \n",
    "    # returns expectation value of the ansatz prepared from this quantum circuit:   \n",
    "    return qml.expval(obs)\n",
    "\n",
    "dev = qml.device(\"default.qubit\", wires=num_wires)\n",
    "@qml.qnode(dev, interface=\"autograd\")\n",
    "def cost_fn(params):\n",
    "    hamiltonian = H(build_xyz(r[0]))\n",
    "    return circuit1(params, obs=hamiltonian, wires=range(num_wires)) \n",
    "\n",
    "\n",
    "########### bond length ###########\n",
    "def finite_diff_r(f, r, shift=np.pi/120):\n",
    "    '''Compute the central-difference finite difference of a function'''\n",
    "    gradient = []\n",
    "    \n",
    "    temp1 = build_xyz(r+shift)\n",
    "    temp2 = build_xyz(r-shift)\n",
    "    \n",
    "    res = (f(temp1) - f(temp2)) /(2*np.sin(shift)) # dH/dx\n",
    "    \n",
    "    gradient.append(res)\n",
    "    \n",
    "    return gradient\n",
    "\n",
    "# def finite_diff_r(f, r, delta=0.01):\n",
    "#     '''Compute the central-difference finite difference of a function'''\n",
    "#     gradient = []\n",
    "#     shift = 0.5 * delta\n",
    "    \n",
    "#     temp1 = build_xyz(r+shift)\n",
    "#     temp2 = build_xyz(r-shift)\n",
    "    \n",
    "#     res = (f(temp1) - f(temp2)) * delta**-1 # dH/dx\n",
    "    \n",
    "#     gradient.append(res)\n",
    "    \n",
    "#     return gradient\n",
    "\n",
    "def grad_r(params, r): #evaluate the expectation of the gradient components (each of the nuclear components of the Hamiltonian)\n",
    "    grad_h = finite_diff_r(H, r)\n",
    "    grad = [circuit(params, obs=obs, wires=range(num_wires)) for obs in grad_h]\n",
    "    \n",
    "    r_gradient.append(grad)\n",
    "    \n",
    "    return np.array(grad)\n",
    "\n",
    "\n",
    "############################################################################# \n",
    "def Hamiltonian_Func(r):\n",
    "    return H(build_xyz(r[0]))\n"
   ]
  },
  {
   "cell_type": "code",
   "execution_count": 10,
   "id": "c0198f72",
   "metadata": {},
   "outputs": [
    {
     "name": "stdout",
     "output_type": "stream",
     "text": [
      "Reinitialized gradient descent parameters!\n"
     ]
    }
   ],
   "source": [
    "# initialize optimizers:\n",
    "opt_theta = qml.GradientDescentOptimizer(stepsize=0.4)\n",
    "opt_r = qml.GradientDescentOptimizer(stepsize=0.8)\n",
    "\n",
    "# Re-initialize all relevant parameters to be optimized:\n",
    "# nuclear-coordinate parameters:\n",
    "symbols = [\"H\", \"H\"]\n",
    "x = np.array([0.85290734, 0.4042742 , 0.62859077, 0.66329266, 1.1119258 ,\n",
    "        0.88760923], requires_grad=True)\n",
    "\n",
    "# Optional: Set parameters:\n",
    "r_calc = 0.4112\n",
    "\n",
    "# initialize z-matrix variables:\n",
    "r = np.array([r_calc], requires_grad=True)\n",
    "\n",
    "\n",
    "# circuit parameters:\n",
    "theta = np.array([0.0] * (len(doubles_select) + len(singles_select)), requires_grad=True)\n",
    "\n",
    "print(\"Reinitialized gradient descent parameters!\")\n",
    "\n",
    "\n",
    "############## SET ROTATION AND TRANSLATION OF MOLECULE ##############\n",
    "axis = np.array([-1, -1, -1]) # any set of numbers, bc it will be normalized to unit vector\n",
    "rot_angle = 90 # in degrees\n",
    "transl_vec = np.array([0.7581,0.7581,0.7581]) # keep in atomic units\n",
    "\n",
    "# Comment this in for a \"default\" geometric initialization\n",
    "# axis = np.array([0,0,1]) # any set of numbers, bc it will be normalized to unit vector\n",
    "# rot_angle = 0 # in degrees\n",
    "# transl_vec = np.array([0.0, 0.0, 0.0]) # keep in atomic units\n",
    "######################################################################\n",
    "\n",
    "# re-define the hamiltonian needed to compute cost-function (otherwise it gives error: Hamiltonian function not callable\n",
    "# when I run the actual gradient descent code below)\n",
    "def H(x):\n",
    "    return qml.qchem.molecular_hamiltonian(symbols, x)[0]\n",
    "\n"
   ]
  },
  {
   "cell_type": "code",
   "execution_count": 11,
   "id": "d424cea5",
   "metadata": {},
   "outputs": [
    {
     "data": {
      "text/plain": [
       "tensor([0.85290734, 0.4042742 , 0.62859077, 0.66329266, 1.1119258 ,\n",
       "        0.88760923], requires_grad=True)"
      ]
     },
     "execution_count": 11,
     "metadata": {},
     "output_type": "execute_result"
    }
   ],
   "source": [
    "display_x = build_xyz(r[0])\n",
    "display_x"
   ]
  },
  {
   "cell_type": "code",
   "execution_count": 12,
   "id": "dacfae75",
   "metadata": {},
   "outputs": [],
   "source": [
    "#plot_3d(display_x)"
   ]
  },
  {
   "cell_type": "code",
   "execution_count": null,
   "id": "6577d214",
   "metadata": {},
   "outputs": [],
   "source": []
  },
  {
   "cell_type": "code",
   "execution_count": 13,
   "id": "c17e9a3b",
   "metadata": {},
   "outputs": [
    {
     "name": "stdout",
     "output_type": "stream",
     "text": [
      "Done with theta optimization!\n",
      "Step = 0,  E = -0.82100586 Ha\n",
      "Bond length = 1.90339 A\n",
      "Maximum r Gradient =  -1.8652416352978476\n",
      "\n",
      "Done with theta optimization!\n",
      "Step = 4,  E = -1.07100806 Ha\n",
      "Bond length = 1.13005 A\n",
      "Maximum r Gradient =  0.2639029247289679\n",
      "\n",
      "Done with theta optimization!\n",
      "Step = 8,  E = -1.13540369 Ha\n",
      "Bond length = 0.75035 A\n",
      "Maximum r Gradient =  0.00011394231305969504\n",
      "\n",
      "Done with theta optimization!\n",
      "Step = 12,  E = -1.13719008 Ha\n",
      "Bond length = 0.73845 A\n",
      "Maximum r Gradient =  0.00143175385832945\n",
      "\n",
      "Done with theta optimization!\n",
      "Step = 16,  E = -1.13729861 Ha\n",
      "Bond length = 0.73624 A\n",
      "Maximum r Gradient =  0.0003499670351318554\n",
      "\n",
      "Done with theta optimization!\n",
      "Step = 20,  E = -1.13730508 Ha\n",
      "Bond length = 0.73574 A\n",
      "Maximum r Gradient =  8.176297869547794e-05\n",
      "\n",
      "Done with theta optimization!\n",
      "Step = 24,  E = -1.13730554 Ha\n",
      "Bond length = 0.73563 A\n",
      "Maximum r Gradient =  1.903394761279542e-05\n",
      "\n",
      "Total time: 11.758278846740723 seconds\n",
      "\n",
      "Final value of the ground-state energy = -1.13730557 Ha\n",
      "\n",
      "Ground-state equilibrium geometry\n",
      "symbol    x        y        z\n",
      "  H    0.8529   0.4043   0.6286\n",
      "  H    0.6633   1.1119   0.8876\n"
     ]
    }
   ],
   "source": [
    "from functools import partial\n",
    "\n",
    "# store the values of the cost function\n",
    "energy = []\n",
    "\n",
    "# store the values of the bond length\n",
    "bond_length = []\n",
    "bond_angle = []\n",
    "\n",
    "r_gradient = []\n",
    "\n",
    "r_optimized = False\n",
    "angle_optimized = False\n",
    "\n",
    "# Factor to convert from Bohrs to Angstroms\n",
    "bohr_angs = 0.529177210903\n",
    "\n",
    "n = 0\n",
    "s1 = time.time()\n",
    "while True:\n",
    "\n",
    "    # Optimize the circuit parameters\n",
    "    theta.requires_grad = True\n",
    "    r.requires_grad = False\n",
    "    #theta  = opt_theta.step(cost_fn, theta)\n",
    "    theta, _ = opt_theta.step(cost, theta, r)\n",
    "    if n % 4 == 0:\n",
    "        print(\"Done with theta optimization!\")\n",
    "\n",
    "    # Optimize the nuclear coordinate bond length\n",
    "    theta.requires_grad = False\n",
    "    r.requires_grad = True\n",
    "    if (not r_optimized):\n",
    "        _, r = opt_r.step(cost, theta, r, grad_fn=grad_r)\n",
    "        \n",
    "\n",
    "    energy.append(cost(theta, r))\n",
    "    bond_length.append(r[0])\n",
    "    \n",
    "\n",
    "    if n % 4 == 0:\n",
    "        print(f\"Step = {n},  E = {energy[-1]:.8f} Ha\")\n",
    "        print(f\"Bond length = {bond_length[-1]:.5f} A\")\n",
    "\n",
    "    maximum_grad_r = np.max(r_gradient[-1])\n",
    "    if n % 4 == 0:\n",
    "        print(\"Maximum r Gradient = \", maximum_grad_r)\n",
    "        print(\"\")\n",
    "    # Check maximum component of the nuclear gradient\n",
    "    if np.abs(maximum_grad_r) <= 1e-05:\n",
    "        r_optimized = True\n",
    "        \n",
    "    if r_optimized:\n",
    "        break\n",
    "    n += 1\n",
    "\n",
    "print(\"Total time:\", time.time()-s1, \"seconds\")\n",
    "print(\"\\n\" f\"Final value of the ground-state energy = {energy[-1]:.8f} Ha\")\n",
    "print(\"\\n\" \"Ground-state equilibrium geometry\")\n",
    "print(\"%s %4s %8s %8s\" % (\"symbol\", \"x\", \"y\", \"z\"))\n",
    "for i, atom in enumerate(symbols):\n",
    "    print(f\"  {atom}    {x[3 * i]:.4f}   {x[3 * i + 1]:.4f}   {x[3 * i + 2]:.4f}\")"
   ]
  },
  {
   "cell_type": "code",
   "execution_count": 16,
   "id": "9bebb9cd",
   "metadata": {},
   "outputs": [
    {
     "data": {
      "text/plain": [
       "tensor([0.73561244], requires_grad=True)"
      ]
     },
     "execution_count": 16,
     "metadata": {},
     "output_type": "execute_result"
    }
   ],
   "source": [
    "r"
   ]
  },
  {
   "cell_type": "code",
   "execution_count": 14,
   "id": "43a66300",
   "metadata": {},
   "outputs": [
    {
     "data": {
      "text/plain": [
       "27"
      ]
     },
     "execution_count": 14,
     "metadata": {},
     "output_type": "execute_result"
    }
   ],
   "source": [
    "len(bond_length)"
   ]
  },
  {
   "cell_type": "code",
   "execution_count": 19,
   "id": "b5c9c057",
   "metadata": {
    "scrolled": true
   },
   "outputs": [
    {
     "data": {
      "image/png": "[encoded data removed]",
      "text/plain": [
       "<Figure size 640x480 with 1 Axes>"
      ]
     },
     "metadata": {},
     "output_type": "display_data"
    }
   ],
   "source": [
    "import matplotlib.pyplot as plt\n",
    "np_bl = np.array(bond_length)\n",
    "np_en = np.array(energy)\n",
    "plt.plot(np_bl)\n",
    "plt.xlabel(\"Steps, n\")\n",
    "plt.ylabel(\"Angstroms, Å\")\n",
    "plt.title(\"Bond length (r) optimization convergence\")\n",
    "plt.grid(True)"
   ]
  },
  {
   "cell_type": "code",
   "execution_count": 58,
   "id": "ccf9e341",
   "metadata": {},
   "outputs": [
    {
     "data": {
      "image/png": "[encoded data removed]",
      "text/plain": [
       "<Figure size 640x480 with 1 Axes>"
      ]
     },
     "metadata": {},
     "output_type": "display_data"
    }
   ],
   "source": [
    "plt.plot(energy)\n",
    "plt.xlabel(\"Steps, n\")\n",
    "plt.ylabel(\"Energy, Ha\")\n",
    "\n",
    "plt.axhline(y=-1.1372633205048763, color='r', linestyle='--')\n",
    "plt.text(15, -1.13, 'FCI energy', horizontalalignment='right')\n",
    "\n",
    "plt.title(\"Energy (Ha) Convergence, Relative\")\n",
    "plt.grid(True)"
   ]
  },
  {
   "cell_type": "code",
   "execution_count": 20,
   "id": "7ff135df",
   "metadata": {},
   "outputs": [
    {
     "data": {
      "image/png": "[encoded data removed]",
      "text/plain": [
       "<Figure size 640x480 with 1 Axes>"
      ]
     },
     "metadata": {},
     "output_type": "display_data"
    }
   ],
   "source": [
    "plt.plot(np_bl, np_en)\n",
    "plt.xlabel(\"Bond Angle, n\")\n",
    "plt.ylabel(\"Energy, Ha\")\n",
    "plt.title(\"Energy (Ha) optimization convergence water, e-= 8, mo orbitals=6\")\n",
    "plt.grid(True)"
   ]
  },
  {
   "cell_type": "code",
   "execution_count": 15,
   "id": "7a41f35e",
   "metadata": {},
   "outputs": [],
   "source": [
    "geometry = np.array([[0.85290734, 0.4042742 , 0.62859077],\n",
    "          [ 0.66329266, 1.1119258 , 0.88760923]], requires_grad=False)\n"
   ]
  },
  {
   "cell_type": "code",
   "execution_count": 17,
   "id": "0e8f3ef9",
   "metadata": {},
   "outputs": [
    {
     "name": "stdout",
     "output_type": "stream",
     "text": [
      "Shots : 4.06e+06\n"
     ]
    }
   ],
   "source": [
    "H = qml.qchem.molecular_hamiltonian(symbols, geometry)[0]\n",
    "H_coeffs, H_ops = H.terms()\n",
    "m = qml.resource.estimate_shots(H_coeffs)\n",
    "print(f'Shots : {m:.2e}')"
   ]
  },
  {
   "cell_type": "code",
   "execution_count": 31,
   "id": "26be41c8",
   "metadata": {},
   "outputs": [
    {
     "data": {
      "image/png": "[encoded data removed]",
      "text/plain": [
       "<Figure size 640x480 with 1 Axes>"
      ]
     },
     "metadata": {},
     "output_type": "display_data"
    }
   ],
   "source": [
    "import matplotlib.pyplot as plt\n",
    "np_bl = np.array(bond_length)\n",
    "np_ba = np.array(bond_angle)\n",
    "np_en = np.array(energy)\n",
    "plt.plot(np_bl)\n",
    "\n",
    "plt.axhline(y=0.7414, color='r', linestyle='--')\n",
    "plt.text(15, 0.76, 'Accepted value', horizontalalignment='right')\n",
    "\n",
    "plt.xlabel(\"Steps, n\")\n",
    "plt.ylabel(\"Angstroms, Å\")\n",
    "plt.title(\"Bond length (r) Convergence using Relative Coordinates\")\n",
    "plt.grid(True)"
   ]
  },
  {
   "cell_type": "code",
   "execution_count": 61,
   "id": "ff64a0e6",
   "metadata": {},
   "outputs": [
    {
     "data": {
      "text/plain": [
       "(-1.1372633205048763, -1.1362950920785788)"
      ]
     },
     "execution_count": 61,
     "metadata": {},
     "output_type": "execute_result"
    }
   ],
   "source": [
    "x = qml.data.load(\"qchem\", molname=\"H2\", bondlength=0.742, basis=\"STO-3G\", attributes=[\"vqe_energy\", \"fci_energy\"])\n",
    "x[0].fci_energy, x[0].vqe_energy"
   ]
  },
  {
   "cell_type": "code",
   "execution_count": 56,
   "id": "1d9d277a",
   "metadata": {},
   "outputs": [
    {
     "data": {
      "text/plain": [
       "(-1.2621759210848382, -1.2613407428534986)"
      ]
     },
     "execution_count": 56,
     "metadata": {},
     "output_type": "execute_result"
    }
   ],
   "source": [
    "x = qml.data.load(\"qchem\", molname=\"H3+\", bondlength=0.874, basis=\"STO-3G\", attributes=[\"vqe_energy\", \"fci_energy\"])\n",
    "x[0].fci_energy, x[0].vqe_energy"
   ]
  },
  {
   "cell_type": "code",
   "execution_count": 59,
   "id": "979983b1",
   "metadata": {},
   "outputs": [
    {
     "data": {
      "text/plain": [
       "(-15.59512681225857, -15.594182737323147)"
      ]
     },
     "execution_count": 59,
     "metadata": {},
     "output_type": "execute_result"
    }
   ],
   "source": [
    "x = qml.data.load(\"qchem\", molname=\"BeH2\", bondlength=1.33, basis=\"STO-3G\", attributes=[\"vqe_energy\", \"fci_energy\"])\n",
    "x[0].fci_energy, x[0].vqe_energy"
   ]
  },
  {
   "cell_type": "code",
   "execution_count": 60,
   "id": "66b6051b",
   "metadata": {},
   "outputs": [
    {
     "data": {
      "text/plain": [
       "(-75.01250626334813, -75.01159788001756)"
      ]
     },
     "execution_count": 60,
     "metadata": {},
     "output_type": "execute_result"
    }
   ],
   "source": [
    "x = qml.data.load(\"qchem\", molname=\"H2O\", bondlength=0.958, basis=\"STO-3G\", attributes=[\"vqe_energy\", \"fci_energy\"])\n",
    "x[0].fci_energy, x[0].vqe_energy"
   ]
  },
  {
   "cell_type": "code",
   "execution_count": null,
   "id": "a9112766",
   "metadata": {},
   "outputs": [],
   "source": []
  }
 ],
 "metadata": {
  "kernelspec": {
   "display_name": "Python 3 (ipykernel)",
   "language": "python",
   "name": "python3"
  },
  "language_info": {
   "codemirror_mode": {
    "name": "ipython",
    "version": 3
   },
   "file_extension": ".py",
   "mimetype": "text/x-python",
   "name": "python",
   "nbconvert_exporter": "python",
   "pygments_lexer": "ipython3",
   "version": "3.11.5"
  }
 },
 "nbformat": 4,
 "nbformat_minor": 5
}
